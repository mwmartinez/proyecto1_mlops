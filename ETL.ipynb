{
 "cells": [
  {
   "attachments": {},
   "cell_type": "markdown",
   "metadata": {},
   "source": [
    "# ETL"
   ]
  },
  {
   "cell_type": "code",
   "execution_count": 2,
   "metadata": {},
   "outputs": [],
   "source": [
    "# importamos librerias para el manejo de los datos\n",
    "import pandas as pd \n",
    "import numpy as np\n",
    "import ast\n",
    "from datetime import datetime\n",
    "\n",
    "pd.set_option(\"max_colwidth\",180)"
   ]
  },
  {
   "attachments": {},
   "cell_type": "markdown",
   "metadata": {},
   "source": [
    "## Extracion"
   ]
  },
  {
   "cell_type": "code",
   "execution_count": 6,
   "metadata": {},
   "outputs": [
    {
     "data": {
      "text/html": [
       "<div>\n",
       "<style scoped>\n",
       "    .dataframe tbody tr th:only-of-type {\n",
       "        vertical-align: middle;\n",
       "    }\n",
       "\n",
       "    .dataframe tbody tr th {\n",
       "        vertical-align: top;\n",
       "    }\n",
       "\n",
       "    .dataframe thead th {\n",
       "        text-align: right;\n",
       "    }\n",
       "</style>\n",
       "<table border=\"1\" class=\"dataframe\">\n",
       "  <thead>\n",
       "    <tr style=\"text-align: right;\">\n",
       "      <th></th>\n",
       "      <th>cast</th>\n",
       "      <th>crew</th>\n",
       "      <th>id</th>\n",
       "    </tr>\n",
       "  </thead>\n",
       "  <tbody>\n",
       "    <tr>\n",
       "      <th>0</th>\n",
       "      <td>[{'cast_id': 14, 'character': 'Woody (voice)', 'credit_id': '52fe4284c3a36847f8024f95', 'gender': 2, 'id': 31, 'name': 'Tom Hanks', 'order': 0, 'profile_path': '/pQFoyx7rp09CJT...</td>\n",
       "      <td>[{'credit_id': '52fe4284c3a36847f8024f49', 'department': 'Directing', 'gender': 2, 'id': 7879, 'job': 'Director', 'name': 'John Lasseter', 'profile_path': '/7EdqiNbr4FRjIhKHyPP...</td>\n",
       "      <td>862</td>\n",
       "    </tr>\n",
       "    <tr>\n",
       "      <th>1</th>\n",
       "      <td>[{'cast_id': 1, 'character': 'Alan Parrish', 'credit_id': '52fe44bfc3a36847f80a7c73', 'gender': 2, 'id': 2157, 'name': 'Robin Williams', 'order': 0, 'profile_path': '/sojtJyIV3...</td>\n",
       "      <td>[{'credit_id': '52fe44bfc3a36847f80a7cd1', 'department': 'Production', 'gender': 2, 'id': 511, 'job': 'Executive Producer', 'name': 'Larry J. Franco', 'profile_path': None}, {'...</td>\n",
       "      <td>8844</td>\n",
       "    </tr>\n",
       "    <tr>\n",
       "      <th>2</th>\n",
       "      <td>[{'cast_id': 2, 'character': 'Max Goldman', 'credit_id': '52fe466a9251416c75077a8d', 'gender': 2, 'id': 6837, 'name': 'Walter Matthau', 'order': 0, 'profile_path': '/xJVkvprOnz...</td>\n",
       "      <td>[{'credit_id': '52fe466a9251416c75077a89', 'department': 'Directing', 'gender': 2, 'id': 26502, 'job': 'Director', 'name': 'Howard Deutch', 'profile_path': '/68Vae1HkU1NxQZ6KEm...</td>\n",
       "      <td>15602</td>\n",
       "    </tr>\n",
       "    <tr>\n",
       "      <th>3</th>\n",
       "      <td>[{'cast_id': 1, 'character': \"Savannah 'Vannah' Jackson\", 'credit_id': '52fe44779251416c91011aad', 'gender': 1, 'id': 8851, 'name': 'Whitney Houston', 'order': 0, 'profile_path...</td>\n",
       "      <td>[{'credit_id': '52fe44779251416c91011acb', 'department': 'Directing', 'gender': 2, 'id': 2178, 'job': 'Director', 'name': 'Forest Whitaker', 'profile_path': '/4pMQkelS5lK661m9K...</td>\n",
       "      <td>31357</td>\n",
       "    </tr>\n",
       "    <tr>\n",
       "      <th>4</th>\n",
       "      <td>[{'cast_id': 1, 'character': 'George Banks', 'credit_id': '52fe44959251416c75039eb9', 'gender': 2, 'id': 67773, 'name': 'Steve Martin', 'order': 0, 'profile_path': '/rI2EMvkfKK...</td>\n",
       "      <td>[{'credit_id': '52fe44959251416c75039ed7', 'department': 'Sound', 'gender': 2, 'id': 37, 'job': 'Original Music Composer', 'name': 'Alan Silvestri', 'profile_path': '/chEsfnDEt...</td>\n",
       "      <td>11862</td>\n",
       "    </tr>\n",
       "  </tbody>\n",
       "</table>\n",
       "</div>"
      ],
      "text/plain": [
       "                                                                                                                                                                                  cast  \\\n",
       "0  [{'cast_id': 14, 'character': 'Woody (voice)', 'credit_id': '52fe4284c3a36847f8024f95', 'gender': 2, 'id': 31, 'name': 'Tom Hanks', 'order': 0, 'profile_path': '/pQFoyx7rp09CJT...   \n",
       "1  [{'cast_id': 1, 'character': 'Alan Parrish', 'credit_id': '52fe44bfc3a36847f80a7c73', 'gender': 2, 'id': 2157, 'name': 'Robin Williams', 'order': 0, 'profile_path': '/sojtJyIV3...   \n",
       "2  [{'cast_id': 2, 'character': 'Max Goldman', 'credit_id': '52fe466a9251416c75077a8d', 'gender': 2, 'id': 6837, 'name': 'Walter Matthau', 'order': 0, 'profile_path': '/xJVkvprOnz...   \n",
       "3  [{'cast_id': 1, 'character': \"Savannah 'Vannah' Jackson\", 'credit_id': '52fe44779251416c91011aad', 'gender': 1, 'id': 8851, 'name': 'Whitney Houston', 'order': 0, 'profile_path...   \n",
       "4  [{'cast_id': 1, 'character': 'George Banks', 'credit_id': '52fe44959251416c75039eb9', 'gender': 2, 'id': 67773, 'name': 'Steve Martin', 'order': 0, 'profile_path': '/rI2EMvkfKK...   \n",
       "\n",
       "                                                                                                                                                                                  crew  \\\n",
       "0  [{'credit_id': '52fe4284c3a36847f8024f49', 'department': 'Directing', 'gender': 2, 'id': 7879, 'job': 'Director', 'name': 'John Lasseter', 'profile_path': '/7EdqiNbr4FRjIhKHyPP...   \n",
       "1  [{'credit_id': '52fe44bfc3a36847f80a7cd1', 'department': 'Production', 'gender': 2, 'id': 511, 'job': 'Executive Producer', 'name': 'Larry J. Franco', 'profile_path': None}, {'...   \n",
       "2  [{'credit_id': '52fe466a9251416c75077a89', 'department': 'Directing', 'gender': 2, 'id': 26502, 'job': 'Director', 'name': 'Howard Deutch', 'profile_path': '/68Vae1HkU1NxQZ6KEm...   \n",
       "3  [{'credit_id': '52fe44779251416c91011acb', 'department': 'Directing', 'gender': 2, 'id': 2178, 'job': 'Director', 'name': 'Forest Whitaker', 'profile_path': '/4pMQkelS5lK661m9K...   \n",
       "4  [{'credit_id': '52fe44959251416c75039ed7', 'department': 'Sound', 'gender': 2, 'id': 37, 'job': 'Original Music Composer', 'name': 'Alan Silvestri', 'profile_path': '/chEsfnDEt...   \n",
       "\n",
       "      id  \n",
       "0    862  \n",
       "1   8844  \n",
       "2  15602  \n",
       "3  31357  \n",
       "4  11862  "
      ]
     },
     "execution_count": 6,
     "metadata": {},
     "output_type": "execute_result"
    }
   ],
   "source": [
    "#cargamos el dataset credits\n",
    "credits = pd.read_csv('..\\Datos\\credits.csv')\n",
    "credits.head()"
   ]
  },
  {
   "cell_type": "code",
   "execution_count": 6,
   "metadata": {},
   "outputs": [
    {
     "name": "stdout",
     "output_type": "stream",
     "text": [
      "(45476, 3)\n",
      "Index(['cast', 'crew', 'id'], dtype='object')\n"
     ]
    }
   ],
   "source": [
    "# dimension y nombre de columnas\n",
    "print(credits.shape)\n",
    "print(credits.columns)"
   ]
  },
  {
   "cell_type": "code",
   "execution_count": 20,
   "metadata": {},
   "outputs": [
    {
     "name": "stderr",
     "output_type": "stream",
     "text": [
      "C:\\Users\\mwmar\\AppData\\Local\\Temp\\ipykernel_9444\\3238314512.py:2: DtypeWarning: Columns (10) have mixed types. Specify dtype option on import or set low_memory=False.\n",
      "  movies = pd.read_csv('..\\Datos\\movies_dataset.csv')\n"
     ]
    },
    {
     "data": {
      "text/html": [
       "<div>\n",
       "<style scoped>\n",
       "    .dataframe tbody tr th:only-of-type {\n",
       "        vertical-align: middle;\n",
       "    }\n",
       "\n",
       "    .dataframe tbody tr th {\n",
       "        vertical-align: top;\n",
       "    }\n",
       "\n",
       "    .dataframe thead th {\n",
       "        text-align: right;\n",
       "    }\n",
       "</style>\n",
       "<table border=\"1\" class=\"dataframe\">\n",
       "  <thead>\n",
       "    <tr style=\"text-align: right;\">\n",
       "      <th></th>\n",
       "      <th>adult</th>\n",
       "      <th>belongs_to_collection</th>\n",
       "      <th>budget</th>\n",
       "      <th>genres</th>\n",
       "      <th>homepage</th>\n",
       "      <th>id</th>\n",
       "      <th>imdb_id</th>\n",
       "      <th>original_language</th>\n",
       "      <th>original_title</th>\n",
       "      <th>overview</th>\n",
       "      <th>...</th>\n",
       "      <th>release_date</th>\n",
       "      <th>revenue</th>\n",
       "      <th>runtime</th>\n",
       "      <th>spoken_languages</th>\n",
       "      <th>status</th>\n",
       "      <th>tagline</th>\n",
       "      <th>title</th>\n",
       "      <th>video</th>\n",
       "      <th>vote_average</th>\n",
       "      <th>vote_count</th>\n",
       "    </tr>\n",
       "  </thead>\n",
       "  <tbody>\n",
       "    <tr>\n",
       "      <th>0</th>\n",
       "      <td>False</td>\n",
       "      <td>{'id': 10194, 'name': 'Toy Story Collection', 'poster_path': '/7G9915LfUQ2lVfwMEEhDsn3kT4B.jpg', 'backdrop_path': '/9FBwqcd9IRruEDUrTdcaafOMKUq.jpg'}</td>\n",
       "      <td>30000000</td>\n",
       "      <td>[{'id': 16, 'name': 'Animation'}, {'id': 35, 'name': 'Comedy'}, {'id': 10751, 'name': 'Family'}]</td>\n",
       "      <td>http://toystory.disney.com/toy-story</td>\n",
       "      <td>862</td>\n",
       "      <td>tt0114709</td>\n",
       "      <td>en</td>\n",
       "      <td>Toy Story</td>\n",
       "      <td>Led by Woody, Andy's toys live happily in his room until Andy's birthday brings Buzz Lightyear onto the scene. Afraid of losing his place in Andy's heart, Woody plots against B...</td>\n",
       "      <td>...</td>\n",
       "      <td>1995-10-30</td>\n",
       "      <td>373554033.0</td>\n",
       "      <td>81.0</td>\n",
       "      <td>[{'iso_639_1': 'en', 'name': 'English'}]</td>\n",
       "      <td>Released</td>\n",
       "      <td>NaN</td>\n",
       "      <td>Toy Story</td>\n",
       "      <td>False</td>\n",
       "      <td>7.7</td>\n",
       "      <td>5415.0</td>\n",
       "    </tr>\n",
       "    <tr>\n",
       "      <th>1</th>\n",
       "      <td>False</td>\n",
       "      <td>NaN</td>\n",
       "      <td>65000000</td>\n",
       "      <td>[{'id': 12, 'name': 'Adventure'}, {'id': 14, 'name': 'Fantasy'}, {'id': 10751, 'name': 'Family'}]</td>\n",
       "      <td>NaN</td>\n",
       "      <td>8844</td>\n",
       "      <td>tt0113497</td>\n",
       "      <td>en</td>\n",
       "      <td>Jumanji</td>\n",
       "      <td>When siblings Judy and Peter discover an enchanted board game that opens the door to a magical world, they unwittingly invite Alan -- an adult who's been trapped inside the gam...</td>\n",
       "      <td>...</td>\n",
       "      <td>1995-12-15</td>\n",
       "      <td>262797249.0</td>\n",
       "      <td>104.0</td>\n",
       "      <td>[{'iso_639_1': 'en', 'name': 'English'}, {'iso_639_1': 'fr', 'name': 'Français'}]</td>\n",
       "      <td>Released</td>\n",
       "      <td>Roll the dice and unleash the excitement!</td>\n",
       "      <td>Jumanji</td>\n",
       "      <td>False</td>\n",
       "      <td>6.9</td>\n",
       "      <td>2413.0</td>\n",
       "    </tr>\n",
       "    <tr>\n",
       "      <th>2</th>\n",
       "      <td>False</td>\n",
       "      <td>{'id': 119050, 'name': 'Grumpy Old Men Collection', 'poster_path': '/nLvUdqgPgm3F85NMCii9gVFUcet.jpg', 'backdrop_path': '/hypTnLot2z8wpFS7qwsQHW1uV8u.jpg'}</td>\n",
       "      <td>0</td>\n",
       "      <td>[{'id': 10749, 'name': 'Romance'}, {'id': 35, 'name': 'Comedy'}]</td>\n",
       "      <td>NaN</td>\n",
       "      <td>15602</td>\n",
       "      <td>tt0113228</td>\n",
       "      <td>en</td>\n",
       "      <td>Grumpier Old Men</td>\n",
       "      <td>A family wedding reignites the ancient feud between next-door neighbors and fishing buddies John and Max. Meanwhile, a sultry Italian divorcée opens a restaurant at the local b...</td>\n",
       "      <td>...</td>\n",
       "      <td>1995-12-22</td>\n",
       "      <td>0.0</td>\n",
       "      <td>101.0</td>\n",
       "      <td>[{'iso_639_1': 'en', 'name': 'English'}]</td>\n",
       "      <td>Released</td>\n",
       "      <td>Still Yelling. Still Fighting. Still Ready for Love.</td>\n",
       "      <td>Grumpier Old Men</td>\n",
       "      <td>False</td>\n",
       "      <td>6.5</td>\n",
       "      <td>92.0</td>\n",
       "    </tr>\n",
       "  </tbody>\n",
       "</table>\n",
       "<p>3 rows × 24 columns</p>\n",
       "</div>"
      ],
      "text/plain": [
       "   adult  \\\n",
       "0  False   \n",
       "1  False   \n",
       "2  False   \n",
       "\n",
       "                                                                                                                                         belongs_to_collection  \\\n",
       "0        {'id': 10194, 'name': 'Toy Story Collection', 'poster_path': '/7G9915LfUQ2lVfwMEEhDsn3kT4B.jpg', 'backdrop_path': '/9FBwqcd9IRruEDUrTdcaafOMKUq.jpg'}   \n",
       "1                                                                                                                                                          NaN   \n",
       "2  {'id': 119050, 'name': 'Grumpy Old Men Collection', 'poster_path': '/nLvUdqgPgm3F85NMCii9gVFUcet.jpg', 'backdrop_path': '/hypTnLot2z8wpFS7qwsQHW1uV8u.jpg'}   \n",
       "\n",
       "     budget  \\\n",
       "0  30000000   \n",
       "1  65000000   \n",
       "2         0   \n",
       "\n",
       "                                                                                              genres  \\\n",
       "0   [{'id': 16, 'name': 'Animation'}, {'id': 35, 'name': 'Comedy'}, {'id': 10751, 'name': 'Family'}]   \n",
       "1  [{'id': 12, 'name': 'Adventure'}, {'id': 14, 'name': 'Fantasy'}, {'id': 10751, 'name': 'Family'}]   \n",
       "2                                   [{'id': 10749, 'name': 'Romance'}, {'id': 35, 'name': 'Comedy'}]   \n",
       "\n",
       "                               homepage     id    imdb_id original_language  \\\n",
       "0  http://toystory.disney.com/toy-story    862  tt0114709                en   \n",
       "1                                   NaN   8844  tt0113497                en   \n",
       "2                                   NaN  15602  tt0113228                en   \n",
       "\n",
       "     original_title  \\\n",
       "0         Toy Story   \n",
       "1           Jumanji   \n",
       "2  Grumpier Old Men   \n",
       "\n",
       "                                                                                                                                                                              overview  \\\n",
       "0  Led by Woody, Andy's toys live happily in his room until Andy's birthday brings Buzz Lightyear onto the scene. Afraid of losing his place in Andy's heart, Woody plots against B...   \n",
       "1  When siblings Judy and Peter discover an enchanted board game that opens the door to a magical world, they unwittingly invite Alan -- an adult who's been trapped inside the gam...   \n",
       "2  A family wedding reignites the ancient feud between next-door neighbors and fishing buddies John and Max. Meanwhile, a sultry Italian divorcée opens a restaurant at the local b...   \n",
       "\n",
       "   ... release_date      revenue runtime  \\\n",
       "0  ...   1995-10-30  373554033.0    81.0   \n",
       "1  ...   1995-12-15  262797249.0   104.0   \n",
       "2  ...   1995-12-22          0.0   101.0   \n",
       "\n",
       "                                                                    spoken_languages  \\\n",
       "0                                           [{'iso_639_1': 'en', 'name': 'English'}]   \n",
       "1  [{'iso_639_1': 'en', 'name': 'English'}, {'iso_639_1': 'fr', 'name': 'Français'}]   \n",
       "2                                           [{'iso_639_1': 'en', 'name': 'English'}]   \n",
       "\n",
       "     status                                               tagline  \\\n",
       "0  Released                                                   NaN   \n",
       "1  Released             Roll the dice and unleash the excitement!   \n",
       "2  Released  Still Yelling. Still Fighting. Still Ready for Love.   \n",
       "\n",
       "              title  video vote_average vote_count  \n",
       "0         Toy Story  False          7.7     5415.0  \n",
       "1           Jumanji  False          6.9     2413.0  \n",
       "2  Grumpier Old Men  False          6.5       92.0  \n",
       "\n",
       "[3 rows x 24 columns]"
      ]
     },
     "execution_count": 20,
     "metadata": {},
     "output_type": "execute_result"
    }
   ],
   "source": [
    "#cargamos el dataset movies\n",
    "movies = pd.read_csv('..\\Datos\\movies_dataset.csv')\n",
    "movies.head(3)"
   ]
  },
  {
   "cell_type": "code",
   "execution_count": 60,
   "metadata": {},
   "outputs": [
    {
     "name": "stdout",
     "output_type": "stream",
     "text": [
      "(45466, 24)\n",
      "Index(['adult', 'belongs_to_collection', 'budget', 'genres', 'homepage', 'id',\n",
      "       'imdb_id', 'original_language', 'original_title', 'overview',\n",
      "       'popularity', 'poster_path', 'production_companies',\n",
      "       'production_countries', 'release_date', 'revenue', 'runtime',\n",
      "       'spoken_languages', 'status', 'tagline', 'title', 'video',\n",
      "       'vote_average', 'vote_count'],\n",
      "      dtype='object')\n"
     ]
    }
   ],
   "source": [
    "# dimension y nombre de columnas\n",
    "print(movies.shape)\n",
    "print(movies.columns)"
   ]
  },
  {
   "attachments": {},
   "cell_type": "markdown",
   "metadata": {},
   "source": [
    "## Transformacion Movies"
   ]
  },
  {
   "attachments": {},
   "cell_type": "markdown",
   "metadata": {},
   "source": [
    "#### Desanidar columna belongs_to_collection"
   ]
  },
  {
   "cell_type": "code",
   "execution_count": 10,
   "metadata": {},
   "outputs": [
    {
     "data": {
      "text/plain": [
       "0              {'id': 10194, 'name': 'Toy Story Collection', 'poster_path': '/7G9915LfUQ2lVfwMEEhDsn3kT4B.jpg', 'backdrop_path': '/9FBwqcd9IRruEDUrTdcaafOMKUq.jpg'}\n",
       "1                                                                                                                                                                NaN\n",
       "2        {'id': 119050, 'name': 'Grumpy Old Men Collection', 'poster_path': '/nLvUdqgPgm3F85NMCii9gVFUcet.jpg', 'backdrop_path': '/hypTnLot2z8wpFS7qwsQHW1uV8u.jpg'}\n",
       "3                                                                                                                                                                NaN\n",
       "4    {'id': 96871, 'name': 'Father of the Bride Collection', 'poster_path': '/nts4iOmNnq7GNicycMJ9pSAn204.jpg', 'backdrop_path': '/7qwE57OVZmMJChBpLEbJEmzUydk.jpg'}\n",
       "Name: belongs_to_collection, dtype: object"
      ]
     },
     "execution_count": 10,
     "metadata": {},
     "output_type": "execute_result"
    }
   ],
   "source": [
    "movies.loc[0:4,'belongs_to_collection']"
   ]
  },
  {
   "cell_type": "code",
   "execution_count": 93,
   "metadata": {},
   "outputs": [
    {
     "data": {
      "text/plain": [
       "40972"
      ]
     },
     "execution_count": 93,
     "metadata": {},
     "output_type": "execute_result"
    }
   ],
   "source": [
    "#cantidad de valores nulos\n",
    "movies['belongs_to_collection'].isnull().sum()"
   ]
  },
  {
   "cell_type": "code",
   "execution_count": 67,
   "metadata": {},
   "outputs": [],
   "source": [
    "# Función auxiliar para manejar los valores nulos\n",
    "def parse_collection(x):\n",
    "    if pd.isnull(x):\n",
    "        return None\n",
    "    else:\n",
    "        return ast.literal_eval(x)\n",
    "\n",
    "\n",
    "# la columna belongs_to_collection esta en formato Json lo convertimos en un diccionario para luego extraer la informacion\n",
    "# utilizamos la funcion parse_collection para manejar los valores nulos \n",
    "dummy = movies['belongs_to_collection'].apply(parse_collection)"
   ]
  },
  {
   "cell_type": "code",
   "execution_count": 79,
   "metadata": {},
   "outputs": [
    {
     "data": {
      "text/plain": [
       "40972"
      ]
     },
     "execution_count": 79,
     "metadata": {},
     "output_type": "execute_result"
    }
   ],
   "source": [
    "#cantidad de valores nulos\n",
    "dummy.isnull().sum()"
   ]
  },
  {
   "cell_type": "code",
   "execution_count": 63,
   "metadata": {},
   "outputs": [],
   "source": [
    "# Función auxiliar para manejar los valores nulos y numéricos\n",
    "def get_value(x, key):\n",
    "    if isinstance(x, dict):\n",
    "        return x.get(key)\n",
    "    else:\n",
    "        return None\n",
    "\n",
    "# creamos columnas nuevas y se aplican los datos extraidos del diccionario \n",
    "# manejando los valores nulos y numericos con la funcion get_value    \n",
    "movies['id_collection'] = dummy.apply(lambda x: get_value(x, 'id'))\n",
    "movies['name_collection'] = dummy.apply(lambda x: get_value(x, 'name'))\n",
    "movies['poster_path_collection'] = dummy.apply(lambda x: get_value(x, 'poster_path'))\n",
    "movies['backdrop_path_collection'] = dummy.apply(lambda x: get_value(x, 'backdrop_path'))"
   ]
  },
  {
   "cell_type": "code",
   "execution_count": 68,
   "metadata": {},
   "outputs": [
    {
     "data": {
      "text/html": [
       "<div>\n",
       "<style scoped>\n",
       "    .dataframe tbody tr th:only-of-type {\n",
       "        vertical-align: middle;\n",
       "    }\n",
       "\n",
       "    .dataframe tbody tr th {\n",
       "        vertical-align: top;\n",
       "    }\n",
       "\n",
       "    .dataframe thead th {\n",
       "        text-align: right;\n",
       "    }\n",
       "</style>\n",
       "<table border=\"1\" class=\"dataframe\">\n",
       "  <thead>\n",
       "    <tr style=\"text-align: right;\">\n",
       "      <th></th>\n",
       "      <th>belongs_to_collection</th>\n",
       "      <th>id_collection</th>\n",
       "      <th>name_collection</th>\n",
       "      <th>poster_path_collection</th>\n",
       "      <th>backdrop_path_collection</th>\n",
       "    </tr>\n",
       "  </thead>\n",
       "  <tbody>\n",
       "    <tr>\n",
       "      <th>0</th>\n",
       "      <td>{'id': 10194, 'name': 'Toy Story Collection', 'poster_path': '/7G9915LfUQ2lVfwMEEhDsn3kT4B.jpg', 'backdrop_path': '/9FBwqcd9IRruEDUrTdcaafOMKUq.jpg'}</td>\n",
       "      <td>10194.0</td>\n",
       "      <td>Toy Story Collection</td>\n",
       "      <td>/7G9915LfUQ2lVfwMEEhDsn3kT4B.jpg</td>\n",
       "      <td>/9FBwqcd9IRruEDUrTdcaafOMKUq.jpg</td>\n",
       "    </tr>\n",
       "    <tr>\n",
       "      <th>1</th>\n",
       "      <td>NaN</td>\n",
       "      <td>NaN</td>\n",
       "      <td>None</td>\n",
       "      <td>None</td>\n",
       "      <td>None</td>\n",
       "    </tr>\n",
       "    <tr>\n",
       "      <th>2</th>\n",
       "      <td>{'id': 119050, 'name': 'Grumpy Old Men Collection', 'poster_path': '/nLvUdqgPgm3F85NMCii9gVFUcet.jpg', 'backdrop_path': '/hypTnLot2z8wpFS7qwsQHW1uV8u.jpg'}</td>\n",
       "      <td>119050.0</td>\n",
       "      <td>Grumpy Old Men Collection</td>\n",
       "      <td>/nLvUdqgPgm3F85NMCii9gVFUcet.jpg</td>\n",
       "      <td>/hypTnLot2z8wpFS7qwsQHW1uV8u.jpg</td>\n",
       "    </tr>\n",
       "    <tr>\n",
       "      <th>3</th>\n",
       "      <td>NaN</td>\n",
       "      <td>NaN</td>\n",
       "      <td>None</td>\n",
       "      <td>None</td>\n",
       "      <td>None</td>\n",
       "    </tr>\n",
       "    <tr>\n",
       "      <th>4</th>\n",
       "      <td>{'id': 96871, 'name': 'Father of the Bride Collection', 'poster_path': '/nts4iOmNnq7GNicycMJ9pSAn204.jpg', 'backdrop_path': '/7qwE57OVZmMJChBpLEbJEmzUydk.jpg'}</td>\n",
       "      <td>96871.0</td>\n",
       "      <td>Father of the Bride Collection</td>\n",
       "      <td>/nts4iOmNnq7GNicycMJ9pSAn204.jpg</td>\n",
       "      <td>/7qwE57OVZmMJChBpLEbJEmzUydk.jpg</td>\n",
       "    </tr>\n",
       "    <tr>\n",
       "      <th>5</th>\n",
       "      <td>NaN</td>\n",
       "      <td>NaN</td>\n",
       "      <td>None</td>\n",
       "      <td>None</td>\n",
       "      <td>None</td>\n",
       "    </tr>\n",
       "  </tbody>\n",
       "</table>\n",
       "</div>"
      ],
      "text/plain": [
       "                                                                                                                                             belongs_to_collection  \\\n",
       "0            {'id': 10194, 'name': 'Toy Story Collection', 'poster_path': '/7G9915LfUQ2lVfwMEEhDsn3kT4B.jpg', 'backdrop_path': '/9FBwqcd9IRruEDUrTdcaafOMKUq.jpg'}   \n",
       "1                                                                                                                                                              NaN   \n",
       "2      {'id': 119050, 'name': 'Grumpy Old Men Collection', 'poster_path': '/nLvUdqgPgm3F85NMCii9gVFUcet.jpg', 'backdrop_path': '/hypTnLot2z8wpFS7qwsQHW1uV8u.jpg'}   \n",
       "3                                                                                                                                                              NaN   \n",
       "4  {'id': 96871, 'name': 'Father of the Bride Collection', 'poster_path': '/nts4iOmNnq7GNicycMJ9pSAn204.jpg', 'backdrop_path': '/7qwE57OVZmMJChBpLEbJEmzUydk.jpg'}   \n",
       "5                                                                                                                                                              NaN   \n",
       "\n",
       "   id_collection                 name_collection  \\\n",
       "0        10194.0            Toy Story Collection   \n",
       "1            NaN                            None   \n",
       "2       119050.0       Grumpy Old Men Collection   \n",
       "3            NaN                            None   \n",
       "4        96871.0  Father of the Bride Collection   \n",
       "5            NaN                            None   \n",
       "\n",
       "             poster_path_collection          backdrop_path_collection  \n",
       "0  /7G9915LfUQ2lVfwMEEhDsn3kT4B.jpg  /9FBwqcd9IRruEDUrTdcaafOMKUq.jpg  \n",
       "1                              None                              None  \n",
       "2  /nLvUdqgPgm3F85NMCii9gVFUcet.jpg  /hypTnLot2z8wpFS7qwsQHW1uV8u.jpg  \n",
       "3                              None                              None  \n",
       "4  /nts4iOmNnq7GNicycMJ9pSAn204.jpg  /7qwE57OVZmMJChBpLEbJEmzUydk.jpg  \n",
       "5                              None                              None  "
      ]
     },
     "execution_count": 68,
     "metadata": {},
     "output_type": "execute_result"
    }
   ],
   "source": [
    "# mostramos las columnas creadas\n",
    "movies.loc[0:5,['belongs_to_collection','id_collection','name_collection','poster_path_collection','backdrop_path_collection']]"
   ]
  },
  {
   "attachments": {},
   "cell_type": "markdown",
   "metadata": {},
   "source": [
    "#### Desanidar columna genres"
   ]
  },
  {
   "cell_type": "code",
   "execution_count": 72,
   "metadata": {},
   "outputs": [
    {
     "data": {
      "text/plain": [
       "0     [{'id': 16, 'name': 'Animation'}, {'id': 35, 'name': 'Comedy'}, {'id': 10751, 'name': 'Family'}]\n",
       "1    [{'id': 12, 'name': 'Adventure'}, {'id': 14, 'name': 'Fantasy'}, {'id': 10751, 'name': 'Family'}]\n",
       "2                                     [{'id': 10749, 'name': 'Romance'}, {'id': 35, 'name': 'Comedy'}]\n",
       "3        [{'id': 35, 'name': 'Comedy'}, {'id': 18, 'name': 'Drama'}, {'id': 10749, 'name': 'Romance'}]\n",
       "Name: genres, dtype: object"
      ]
     },
     "execution_count": 72,
     "metadata": {},
     "output_type": "execute_result"
    }
   ],
   "source": [
    "#muestro la columna que contiene una lista de diccionarios\n",
    "movies.loc[0:3,'genres']"
   ]
  },
  {
   "cell_type": "code",
   "execution_count": 11,
   "metadata": {},
   "outputs": [
    {
     "data": {
      "text/plain": [
       "0"
      ]
     },
     "execution_count": 11,
     "metadata": {},
     "output_type": "execute_result"
    }
   ],
   "source": [
    "#cantidad de valores nulos\n",
    "movies['genres'].isnull().sum()"
   ]
  },
  {
   "cell_type": "code",
   "execution_count": 74,
   "metadata": {},
   "outputs": [],
   "source": [
    "#convierte los valores de la columna en una lista real\n",
    "dummy_2 = movies['genres'].apply(lambda x: ast.literal_eval(x))"
   ]
  },
  {
   "cell_type": "code",
   "execution_count": 84,
   "metadata": {},
   "outputs": [],
   "source": [
    "# Función auxiliar para obtener los valores 'id' y 'name' de una lista\n",
    "def extract_values(lst, key):\n",
    "    if isinstance(lst, list):\n",
    "        return [item[key] for item in lst]\n",
    "    else:\n",
    "        return None\n",
    "    \n",
    "# creamos nuevas columas extrayendo los valores de la lista utilizando indexacion para acceder a\n",
    "# los elemetos de la lista con ayuda de la funcion  extract_values\n",
    "movies['id_genres'] = dummy_2.apply(lambda x: extract_values(x, 'id'))\n",
    "movies['name_genres'] = dummy_2.apply(lambda x: extract_values(x, 'name'))"
   ]
  },
  {
   "cell_type": "code",
   "execution_count": 87,
   "metadata": {},
   "outputs": [
    {
     "data": {
      "text/html": [
       "<div>\n",
       "<style scoped>\n",
       "    .dataframe tbody tr th:only-of-type {\n",
       "        vertical-align: middle;\n",
       "    }\n",
       "\n",
       "    .dataframe tbody tr th {\n",
       "        vertical-align: top;\n",
       "    }\n",
       "\n",
       "    .dataframe thead th {\n",
       "        text-align: right;\n",
       "    }\n",
       "</style>\n",
       "<table border=\"1\" class=\"dataframe\">\n",
       "  <thead>\n",
       "    <tr style=\"text-align: right;\">\n",
       "      <th></th>\n",
       "      <th>genres</th>\n",
       "      <th>id_genres</th>\n",
       "      <th>name_genres</th>\n",
       "    </tr>\n",
       "  </thead>\n",
       "  <tbody>\n",
       "    <tr>\n",
       "      <th>0</th>\n",
       "      <td>[{'id': 16, 'name': 'Animation'}, {'id': 35, 'name': 'Comedy'}, {'id': 10751, 'name': 'Family'}]</td>\n",
       "      <td>[16, 35, 10751]</td>\n",
       "      <td>[Animation, Comedy, Family]</td>\n",
       "    </tr>\n",
       "    <tr>\n",
       "      <th>1</th>\n",
       "      <td>[{'id': 12, 'name': 'Adventure'}, {'id': 14, 'name': 'Fantasy'}, {'id': 10751, 'name': 'Family'}]</td>\n",
       "      <td>[12, 14, 10751]</td>\n",
       "      <td>[Adventure, Fantasy, Family]</td>\n",
       "    </tr>\n",
       "    <tr>\n",
       "      <th>2</th>\n",
       "      <td>[{'id': 10749, 'name': 'Romance'}, {'id': 35, 'name': 'Comedy'}]</td>\n",
       "      <td>[10749, 35]</td>\n",
       "      <td>[Romance, Comedy]</td>\n",
       "    </tr>\n",
       "    <tr>\n",
       "      <th>3</th>\n",
       "      <td>[{'id': 35, 'name': 'Comedy'}, {'id': 18, 'name': 'Drama'}, {'id': 10749, 'name': 'Romance'}]</td>\n",
       "      <td>[35, 18, 10749]</td>\n",
       "      <td>[Comedy, Drama, Romance]</td>\n",
       "    </tr>\n",
       "    <tr>\n",
       "      <th>4</th>\n",
       "      <td>[{'id': 35, 'name': 'Comedy'}]</td>\n",
       "      <td>[35]</td>\n",
       "      <td>[Comedy]</td>\n",
       "    </tr>\n",
       "    <tr>\n",
       "      <th>5</th>\n",
       "      <td>[{'id': 28, 'name': 'Action'}, {'id': 80, 'name': 'Crime'}, {'id': 18, 'name': 'Drama'}, {'id': 53, 'name': 'Thriller'}]</td>\n",
       "      <td>[28, 80, 18, 53]</td>\n",
       "      <td>[Action, Crime, Drama, Thriller]</td>\n",
       "    </tr>\n",
       "  </tbody>\n",
       "</table>\n",
       "</div>"
      ],
      "text/plain": [
       "                                                                                                                     genres  \\\n",
       "0                          [{'id': 16, 'name': 'Animation'}, {'id': 35, 'name': 'Comedy'}, {'id': 10751, 'name': 'Family'}]   \n",
       "1                         [{'id': 12, 'name': 'Adventure'}, {'id': 14, 'name': 'Fantasy'}, {'id': 10751, 'name': 'Family'}]   \n",
       "2                                                          [{'id': 10749, 'name': 'Romance'}, {'id': 35, 'name': 'Comedy'}]   \n",
       "3                             [{'id': 35, 'name': 'Comedy'}, {'id': 18, 'name': 'Drama'}, {'id': 10749, 'name': 'Romance'}]   \n",
       "4                                                                                            [{'id': 35, 'name': 'Comedy'}]   \n",
       "5  [{'id': 28, 'name': 'Action'}, {'id': 80, 'name': 'Crime'}, {'id': 18, 'name': 'Drama'}, {'id': 53, 'name': 'Thriller'}]   \n",
       "\n",
       "          id_genres                       name_genres  \n",
       "0   [16, 35, 10751]       [Animation, Comedy, Family]  \n",
       "1   [12, 14, 10751]      [Adventure, Fantasy, Family]  \n",
       "2       [10749, 35]                 [Romance, Comedy]  \n",
       "3   [35, 18, 10749]          [Comedy, Drama, Romance]  \n",
       "4              [35]                          [Comedy]  \n",
       "5  [28, 80, 18, 53]  [Action, Crime, Drama, Thriller]  "
      ]
     },
     "execution_count": 87,
     "metadata": {},
     "output_type": "execute_result"
    }
   ],
   "source": [
    "movies.loc[0:5,['genres','id_genres','name_genres']]"
   ]
  },
  {
   "attachments": {},
   "cell_type": "markdown",
   "metadata": {},
   "source": [
    "#### Desanidar columna production_companies"
   ]
  },
  {
   "cell_type": "code",
   "execution_count": 90,
   "metadata": {},
   "outputs": [
    {
     "data": {
      "text/plain": [
       "0                                                                                         [{'name': 'Pixar Animation Studios', 'id': 3}]\n",
       "1    [{'name': 'TriStar Pictures', 'id': 559}, {'name': 'Teitler Film', 'id': 2550}, {'name': 'Interscope Communications', 'id': 10201}]\n",
       "2                                                        [{'name': 'Warner Bros.', 'id': 6194}, {'name': 'Lancaster Gate', 'id': 19464}]\n",
       "3                                                                        [{'name': 'Twentieth Century Fox Film Corporation', 'id': 306}]\n",
       "4                                           [{'name': 'Sandollar Productions', 'id': 5842}, {'name': 'Touchstone Pictures', 'id': 9195}]\n",
       "Name: production_companies, dtype: object"
      ]
     },
     "execution_count": 90,
     "metadata": {},
     "output_type": "execute_result"
    }
   ],
   "source": [
    "#muestro la columna que contiene una lista de diccionarios\n",
    "movies.loc[0:4,'production_companies']"
   ]
  },
  {
   "cell_type": "code",
   "execution_count": 92,
   "metadata": {},
   "outputs": [
    {
     "data": {
      "text/plain": [
       "3"
      ]
     },
     "execution_count": 92,
     "metadata": {},
     "output_type": "execute_result"
    }
   ],
   "source": [
    "# cantidad de valores nulos\n",
    "movies['production_companies'].isnull().sum()"
   ]
  },
  {
   "cell_type": "code",
   "execution_count": 96,
   "metadata": {},
   "outputs": [],
   "source": [
    "# Función auxiliar para manejar los valores nulos\n",
    "def parse_collection(x):\n",
    "    if pd.isnull(x):\n",
    "        return None\n",
    "    else:\n",
    "        return ast.literal_eval(x)\n",
    "\n",
    "\n",
    "# convierte los valores de la columna en una lista real\n",
    "# utilizamos la funcion parse_collection para manejar los valores nulos \n",
    "dummy_3 = movies['production_companies'].apply(parse_collection)"
   ]
  },
  {
   "cell_type": "code",
   "execution_count": 99,
   "metadata": {},
   "outputs": [],
   "source": [
    "# Función auxiliar para obtener los valores 'id' y 'name' de una lista\n",
    "def extract_values(lst, key):\n",
    "    if isinstance(lst, list):\n",
    "        return [item[key] for item in lst]\n",
    "    else:\n",
    "        return None\n",
    "    \n",
    "# creamos nuevas columas extrayendo los valores de la lista utilizando indexacion para acceder a\n",
    "# los elemetos de la lista con ayuda de la funcion  extract_values\n",
    "movies['id_companies'] = dummy_3.apply(lambda x: extract_values(x, 'id'))\n",
    "movies['name_companies'] = dummy_3.apply(lambda x: extract_values(x, 'name'))"
   ]
  },
  {
   "cell_type": "code",
   "execution_count": 100,
   "metadata": {},
   "outputs": [
    {
     "data": {
      "text/html": [
       "<div>\n",
       "<style scoped>\n",
       "    .dataframe tbody tr th:only-of-type {\n",
       "        vertical-align: middle;\n",
       "    }\n",
       "\n",
       "    .dataframe tbody tr th {\n",
       "        vertical-align: top;\n",
       "    }\n",
       "\n",
       "    .dataframe thead th {\n",
       "        text-align: right;\n",
       "    }\n",
       "</style>\n",
       "<table border=\"1\" class=\"dataframe\">\n",
       "  <thead>\n",
       "    <tr style=\"text-align: right;\">\n",
       "      <th></th>\n",
       "      <th>production_companies</th>\n",
       "      <th>id_companies</th>\n",
       "      <th>name_companies</th>\n",
       "    </tr>\n",
       "  </thead>\n",
       "  <tbody>\n",
       "    <tr>\n",
       "      <th>0</th>\n",
       "      <td>[{'name': 'Pixar Animation Studios', 'id': 3}]</td>\n",
       "      <td>[3]</td>\n",
       "      <td>[Pixar Animation Studios]</td>\n",
       "    </tr>\n",
       "    <tr>\n",
       "      <th>1</th>\n",
       "      <td>[{'name': 'TriStar Pictures', 'id': 559}, {'name': 'Teitler Film', 'id': 2550}, {'name': 'Interscope Communications', 'id': 10201}]</td>\n",
       "      <td>[559, 2550, 10201]</td>\n",
       "      <td>[TriStar Pictures, Teitler Film, Interscope Communications]</td>\n",
       "    </tr>\n",
       "    <tr>\n",
       "      <th>2</th>\n",
       "      <td>[{'name': 'Warner Bros.', 'id': 6194}, {'name': 'Lancaster Gate', 'id': 19464}]</td>\n",
       "      <td>[6194, 19464]</td>\n",
       "      <td>[Warner Bros., Lancaster Gate]</td>\n",
       "    </tr>\n",
       "    <tr>\n",
       "      <th>3</th>\n",
       "      <td>[{'name': 'Twentieth Century Fox Film Corporation', 'id': 306}]</td>\n",
       "      <td>[306]</td>\n",
       "      <td>[Twentieth Century Fox Film Corporation]</td>\n",
       "    </tr>\n",
       "    <tr>\n",
       "      <th>4</th>\n",
       "      <td>[{'name': 'Sandollar Productions', 'id': 5842}, {'name': 'Touchstone Pictures', 'id': 9195}]</td>\n",
       "      <td>[5842, 9195]</td>\n",
       "      <td>[Sandollar Productions, Touchstone Pictures]</td>\n",
       "    </tr>\n",
       "  </tbody>\n",
       "</table>\n",
       "</div>"
      ],
      "text/plain": [
       "                                                                                                                  production_companies  \\\n",
       "0                                                                                       [{'name': 'Pixar Animation Studios', 'id': 3}]   \n",
       "1  [{'name': 'TriStar Pictures', 'id': 559}, {'name': 'Teitler Film', 'id': 2550}, {'name': 'Interscope Communications', 'id': 10201}]   \n",
       "2                                                      [{'name': 'Warner Bros.', 'id': 6194}, {'name': 'Lancaster Gate', 'id': 19464}]   \n",
       "3                                                                      [{'name': 'Twentieth Century Fox Film Corporation', 'id': 306}]   \n",
       "4                                         [{'name': 'Sandollar Productions', 'id': 5842}, {'name': 'Touchstone Pictures', 'id': 9195}]   \n",
       "\n",
       "         id_companies  \\\n",
       "0                 [3]   \n",
       "1  [559, 2550, 10201]   \n",
       "2       [6194, 19464]   \n",
       "3               [306]   \n",
       "4        [5842, 9195]   \n",
       "\n",
       "                                                name_companies  \n",
       "0                                    [Pixar Animation Studios]  \n",
       "1  [TriStar Pictures, Teitler Film, Interscope Communications]  \n",
       "2                               [Warner Bros., Lancaster Gate]  \n",
       "3                     [Twentieth Century Fox Film Corporation]  \n",
       "4                 [Sandollar Productions, Touchstone Pictures]  "
      ]
     },
     "execution_count": 100,
     "metadata": {},
     "output_type": "execute_result"
    }
   ],
   "source": [
    "movies.loc[0:4,['production_companies','id_companies','name_companies']]"
   ]
  },
  {
   "attachments": {},
   "cell_type": "markdown",
   "metadata": {},
   "source": [
    "#### Desanidar columna production_countries"
   ]
  },
  {
   "cell_type": "code",
   "execution_count": 102,
   "metadata": {},
   "outputs": [
    {
     "data": {
      "text/plain": [
       "0    [{'iso_3166_1': 'US', 'name': 'United States of America'}]\n",
       "1    [{'iso_3166_1': 'US', 'name': 'United States of America'}]\n",
       "2    [{'iso_3166_1': 'US', 'name': 'United States of America'}]\n",
       "3    [{'iso_3166_1': 'US', 'name': 'United States of America'}]\n",
       "4    [{'iso_3166_1': 'US', 'name': 'United States of America'}]\n",
       "Name: production_countries, dtype: object"
      ]
     },
     "execution_count": 102,
     "metadata": {},
     "output_type": "execute_result"
    }
   ],
   "source": [
    "#observamos los datos\n",
    "movies.loc[0:4,'production_countries']"
   ]
  },
  {
   "cell_type": "code",
   "execution_count": 103,
   "metadata": {},
   "outputs": [
    {
     "data": {
      "text/plain": [
       "3"
      ]
     },
     "execution_count": 103,
     "metadata": {},
     "output_type": "execute_result"
    }
   ],
   "source": [
    "#cantidad de valores nulos\n",
    "movies['production_countries'].isnull().sum()"
   ]
  },
  {
   "cell_type": "code",
   "execution_count": 104,
   "metadata": {},
   "outputs": [],
   "source": [
    "# Función auxiliar para manejar los valores nulos\n",
    "def parse_collection(x):\n",
    "    if pd.isnull(x):\n",
    "        return None\n",
    "    else:\n",
    "        return ast.literal_eval(x)\n",
    "\n",
    "\n",
    "# convierte los valores de la columna en una lista real\n",
    "# utilizamos la funcion parse_collection para manejar los valores nulos \n",
    "dummy_4 = movies['production_countries'].apply(parse_collection)"
   ]
  },
  {
   "cell_type": "code",
   "execution_count": 122,
   "metadata": {},
   "outputs": [],
   "source": [
    "#extraigo el valor único de una lista que contiene solo un elemento y se le asigna a una columna nueva\n",
    "movies['iso_3166_1_countries'] = dummy_4.apply(lambda x: x[0]['iso_3166_1'] if isinstance(x, list) and len(x) == 1 else None)\n",
    "movies['name_countries'] = dummy_4.apply(lambda x: x[0]['name'] if isinstance(x, list) and len(x) == 1 else None)\n"
   ]
  },
  {
   "cell_type": "code",
   "execution_count": 123,
   "metadata": {},
   "outputs": [
    {
     "data": {
      "text/html": [
       "<div>\n",
       "<style scoped>\n",
       "    .dataframe tbody tr th:only-of-type {\n",
       "        vertical-align: middle;\n",
       "    }\n",
       "\n",
       "    .dataframe tbody tr th {\n",
       "        vertical-align: top;\n",
       "    }\n",
       "\n",
       "    .dataframe thead th {\n",
       "        text-align: right;\n",
       "    }\n",
       "</style>\n",
       "<table border=\"1\" class=\"dataframe\">\n",
       "  <thead>\n",
       "    <tr style=\"text-align: right;\">\n",
       "      <th></th>\n",
       "      <th>production_countries</th>\n",
       "      <th>iso_3166_1_countries</th>\n",
       "      <th>name_countries</th>\n",
       "    </tr>\n",
       "  </thead>\n",
       "  <tbody>\n",
       "    <tr>\n",
       "      <th>0</th>\n",
       "      <td>[{'iso_3166_1': 'US', 'name': 'United States of America'}]</td>\n",
       "      <td>US</td>\n",
       "      <td>United States of America</td>\n",
       "    </tr>\n",
       "    <tr>\n",
       "      <th>1</th>\n",
       "      <td>[{'iso_3166_1': 'US', 'name': 'United States of America'}]</td>\n",
       "      <td>US</td>\n",
       "      <td>United States of America</td>\n",
       "    </tr>\n",
       "    <tr>\n",
       "      <th>2</th>\n",
       "      <td>[{'iso_3166_1': 'US', 'name': 'United States of America'}]</td>\n",
       "      <td>US</td>\n",
       "      <td>United States of America</td>\n",
       "    </tr>\n",
       "    <tr>\n",
       "      <th>3</th>\n",
       "      <td>[{'iso_3166_1': 'US', 'name': 'United States of America'}]</td>\n",
       "      <td>US</td>\n",
       "      <td>United States of America</td>\n",
       "    </tr>\n",
       "    <tr>\n",
       "      <th>4</th>\n",
       "      <td>[{'iso_3166_1': 'US', 'name': 'United States of America'}]</td>\n",
       "      <td>US</td>\n",
       "      <td>United States of America</td>\n",
       "    </tr>\n",
       "  </tbody>\n",
       "</table>\n",
       "</div>"
      ],
      "text/plain": [
       "                                         production_countries  \\\n",
       "0  [{'iso_3166_1': 'US', 'name': 'United States of America'}]   \n",
       "1  [{'iso_3166_1': 'US', 'name': 'United States of America'}]   \n",
       "2  [{'iso_3166_1': 'US', 'name': 'United States of America'}]   \n",
       "3  [{'iso_3166_1': 'US', 'name': 'United States of America'}]   \n",
       "4  [{'iso_3166_1': 'US', 'name': 'United States of America'}]   \n",
       "\n",
       "  iso_3166_1_countries            name_countries  \n",
       "0                   US  United States of America  \n",
       "1                   US  United States of America  \n",
       "2                   US  United States of America  \n",
       "3                   US  United States of America  \n",
       "4                   US  United States of America  "
      ]
     },
     "execution_count": 123,
     "metadata": {},
     "output_type": "execute_result"
    }
   ],
   "source": [
    "#observo las columnas nuevas\n",
    "movies.loc[0:4,['production_countries','iso_3166_1_countries','name_countries']]"
   ]
  },
  {
   "attachments": {},
   "cell_type": "markdown",
   "metadata": {},
   "source": [
    "#### Desanidar columna spoken_languages"
   ]
  },
  {
   "cell_type": "code",
   "execution_count": 126,
   "metadata": {},
   "outputs": [
    {
     "data": {
      "text/plain": [
       "0                                             [{'iso_639_1': 'en', 'name': 'English'}]\n",
       "1    [{'iso_639_1': 'en', 'name': 'English'}, {'iso_639_1': 'fr', 'name': 'Français'}]\n",
       "2                                             [{'iso_639_1': 'en', 'name': 'English'}]\n",
       "3                                             [{'iso_639_1': 'en', 'name': 'English'}]\n",
       "4                                             [{'iso_639_1': 'en', 'name': 'English'}]\n",
       "Name: spoken_languages, dtype: object"
      ]
     },
     "execution_count": 126,
     "metadata": {},
     "output_type": "execute_result"
    }
   ],
   "source": [
    "#imprimo los datos\n",
    "movies.loc[0:4,'spoken_languages']"
   ]
  },
  {
   "cell_type": "code",
   "execution_count": 127,
   "metadata": {},
   "outputs": [
    {
     "data": {
      "text/plain": [
       "6"
      ]
     },
     "execution_count": 127,
     "metadata": {},
     "output_type": "execute_result"
    }
   ],
   "source": [
    "#cantidad de valores nulos\n",
    "movies['spoken_languages'].isnull().sum()"
   ]
  },
  {
   "cell_type": "code",
   "execution_count": 128,
   "metadata": {},
   "outputs": [],
   "source": [
    "# Función auxiliar para manejar los valores nulos\n",
    "def parse_collection(x):\n",
    "    if pd.isnull(x):\n",
    "        return None\n",
    "    else:\n",
    "        return ast.literal_eval(x)\n",
    "\n",
    "\n",
    "# convierte los valores de la columna en una lista real\n",
    "# utilizamos la funcion parse_collection para manejar los valores nulos \n",
    "dummy_5 = movies['spoken_languages'].apply(parse_collection)"
   ]
  },
  {
   "cell_type": "code",
   "execution_count": 129,
   "metadata": {},
   "outputs": [],
   "source": [
    "# Función auxiliar para obtener los valores 'id' y 'name' de una lista\n",
    "def extract_values(lst, key):\n",
    "    if isinstance(lst, list):\n",
    "        return [item[key] for item in lst]\n",
    "    else:\n",
    "        return None\n",
    "    \n",
    "# creamos nuevas columas extrayendo los valores de la lista utilizando indexacion para acceder a\n",
    "# los elemetos de la lista con ayuda de la funcion  extract_values\n",
    "movies['iso_639_1_languages'] = dummy_5.apply(lambda x: extract_values(x, 'iso_639_1'))\n",
    "movies['name_languages'] = dummy_5.apply(lambda x: extract_values(x, 'name'))"
   ]
  },
  {
   "cell_type": "code",
   "execution_count": 131,
   "metadata": {},
   "outputs": [
    {
     "data": {
      "text/html": [
       "<div>\n",
       "<style scoped>\n",
       "    .dataframe tbody tr th:only-of-type {\n",
       "        vertical-align: middle;\n",
       "    }\n",
       "\n",
       "    .dataframe tbody tr th {\n",
       "        vertical-align: top;\n",
       "    }\n",
       "\n",
       "    .dataframe thead th {\n",
       "        text-align: right;\n",
       "    }\n",
       "</style>\n",
       "<table border=\"1\" class=\"dataframe\">\n",
       "  <thead>\n",
       "    <tr style=\"text-align: right;\">\n",
       "      <th></th>\n",
       "      <th>spoken_languages</th>\n",
       "      <th>iso_639_1_languages</th>\n",
       "      <th>name_languages</th>\n",
       "    </tr>\n",
       "  </thead>\n",
       "  <tbody>\n",
       "    <tr>\n",
       "      <th>0</th>\n",
       "      <td>[{'iso_639_1': 'en', 'name': 'English'}]</td>\n",
       "      <td>[en]</td>\n",
       "      <td>[English]</td>\n",
       "    </tr>\n",
       "    <tr>\n",
       "      <th>1</th>\n",
       "      <td>[{'iso_639_1': 'en', 'name': 'English'}, {'iso_639_1': 'fr', 'name': 'Français'}]</td>\n",
       "      <td>[en, fr]</td>\n",
       "      <td>[English, Français]</td>\n",
       "    </tr>\n",
       "    <tr>\n",
       "      <th>2</th>\n",
       "      <td>[{'iso_639_1': 'en', 'name': 'English'}]</td>\n",
       "      <td>[en]</td>\n",
       "      <td>[English]</td>\n",
       "    </tr>\n",
       "    <tr>\n",
       "      <th>3</th>\n",
       "      <td>[{'iso_639_1': 'en', 'name': 'English'}]</td>\n",
       "      <td>[en]</td>\n",
       "      <td>[English]</td>\n",
       "    </tr>\n",
       "    <tr>\n",
       "      <th>4</th>\n",
       "      <td>[{'iso_639_1': 'en', 'name': 'English'}]</td>\n",
       "      <td>[en]</td>\n",
       "      <td>[English]</td>\n",
       "    </tr>\n",
       "    <tr>\n",
       "      <th>5</th>\n",
       "      <td>[{'iso_639_1': 'en', 'name': 'English'}, {'iso_639_1': 'es', 'name': 'Español'}]</td>\n",
       "      <td>[en, es]</td>\n",
       "      <td>[English, Español]</td>\n",
       "    </tr>\n",
       "    <tr>\n",
       "      <th>6</th>\n",
       "      <td>[{'iso_639_1': 'fr', 'name': 'Français'}, {'iso_639_1': 'en', 'name': 'English'}]</td>\n",
       "      <td>[fr, en]</td>\n",
       "      <td>[Français, English]</td>\n",
       "    </tr>\n",
       "    <tr>\n",
       "      <th>7</th>\n",
       "      <td>[{'iso_639_1': 'en', 'name': 'English'}, {'iso_639_1': 'de', 'name': 'Deutsch'}]</td>\n",
       "      <td>[en, de]</td>\n",
       "      <td>[English, Deutsch]</td>\n",
       "    </tr>\n",
       "    <tr>\n",
       "      <th>8</th>\n",
       "      <td>[{'iso_639_1': 'en', 'name': 'English'}]</td>\n",
       "      <td>[en]</td>\n",
       "      <td>[English]</td>\n",
       "    </tr>\n",
       "    <tr>\n",
       "      <th>9</th>\n",
       "      <td>[{'iso_639_1': 'en', 'name': 'English'}, {'iso_639_1': 'ru', 'name': 'Pусский'}, {'iso_639_1': 'es', 'name': 'Español'}]</td>\n",
       "      <td>[en, ru, es]</td>\n",
       "      <td>[English, Pусский, Español]</td>\n",
       "    </tr>\n",
       "    <tr>\n",
       "      <th>10</th>\n",
       "      <td>[{'iso_639_1': 'en', 'name': 'English'}]</td>\n",
       "      <td>[en]</td>\n",
       "      <td>[English]</td>\n",
       "    </tr>\n",
       "    <tr>\n",
       "      <th>11</th>\n",
       "      <td>[{'iso_639_1': 'en', 'name': 'English'}, {'iso_639_1': 'de', 'name': 'Deutsch'}]</td>\n",
       "      <td>[en, de]</td>\n",
       "      <td>[English, Deutsch]</td>\n",
       "    </tr>\n",
       "    <tr>\n",
       "      <th>12</th>\n",
       "      <td>[{'iso_639_1': 'en', 'name': 'English'}]</td>\n",
       "      <td>[en]</td>\n",
       "      <td>[English]</td>\n",
       "    </tr>\n",
       "    <tr>\n",
       "      <th>13</th>\n",
       "      <td>[{'iso_639_1': 'en', 'name': 'English'}]</td>\n",
       "      <td>[en]</td>\n",
       "      <td>[English]</td>\n",
       "    </tr>\n",
       "    <tr>\n",
       "      <th>14</th>\n",
       "      <td>[{'iso_639_1': 'en', 'name': 'English'}, {'iso_639_1': 'la', 'name': 'Latin'}]</td>\n",
       "      <td>[en, la]</td>\n",
       "      <td>[English, Latin]</td>\n",
       "    </tr>\n",
       "    <tr>\n",
       "      <th>15</th>\n",
       "      <td>[{'iso_639_1': 'en', 'name': 'English'}]</td>\n",
       "      <td>[en]</td>\n",
       "      <td>[English]</td>\n",
       "    </tr>\n",
       "    <tr>\n",
       "      <th>16</th>\n",
       "      <td>[{'iso_639_1': 'en', 'name': 'English'}]</td>\n",
       "      <td>[en]</td>\n",
       "      <td>[English]</td>\n",
       "    </tr>\n",
       "    <tr>\n",
       "      <th>17</th>\n",
       "      <td>[{'iso_639_1': 'en', 'name': 'English'}]</td>\n",
       "      <td>[en]</td>\n",
       "      <td>[English]</td>\n",
       "    </tr>\n",
       "    <tr>\n",
       "      <th>18</th>\n",
       "      <td>[{'iso_639_1': 'en', 'name': 'English'}]</td>\n",
       "      <td>[en]</td>\n",
       "      <td>[English]</td>\n",
       "    </tr>\n",
       "    <tr>\n",
       "      <th>19</th>\n",
       "      <td>[{'iso_639_1': 'en', 'name': 'English'}]</td>\n",
       "      <td>[en]</td>\n",
       "      <td>[English]</td>\n",
       "    </tr>\n",
       "    <tr>\n",
       "      <th>20</th>\n",
       "      <td>[{'iso_639_1': 'en', 'name': 'English'}]</td>\n",
       "      <td>[en]</td>\n",
       "      <td>[English]</td>\n",
       "    </tr>\n",
       "  </tbody>\n",
       "</table>\n",
       "</div>"
      ],
      "text/plain": [
       "                                                                                                            spoken_languages  \\\n",
       "0                                                                                   [{'iso_639_1': 'en', 'name': 'English'}]   \n",
       "1                                          [{'iso_639_1': 'en', 'name': 'English'}, {'iso_639_1': 'fr', 'name': 'Français'}]   \n",
       "2                                                                                   [{'iso_639_1': 'en', 'name': 'English'}]   \n",
       "3                                                                                   [{'iso_639_1': 'en', 'name': 'English'}]   \n",
       "4                                                                                   [{'iso_639_1': 'en', 'name': 'English'}]   \n",
       "5                                           [{'iso_639_1': 'en', 'name': 'English'}, {'iso_639_1': 'es', 'name': 'Español'}]   \n",
       "6                                          [{'iso_639_1': 'fr', 'name': 'Français'}, {'iso_639_1': 'en', 'name': 'English'}]   \n",
       "7                                           [{'iso_639_1': 'en', 'name': 'English'}, {'iso_639_1': 'de', 'name': 'Deutsch'}]   \n",
       "8                                                                                   [{'iso_639_1': 'en', 'name': 'English'}]   \n",
       "9   [{'iso_639_1': 'en', 'name': 'English'}, {'iso_639_1': 'ru', 'name': 'Pусский'}, {'iso_639_1': 'es', 'name': 'Español'}]   \n",
       "10                                                                                  [{'iso_639_1': 'en', 'name': 'English'}]   \n",
       "11                                          [{'iso_639_1': 'en', 'name': 'English'}, {'iso_639_1': 'de', 'name': 'Deutsch'}]   \n",
       "12                                                                                  [{'iso_639_1': 'en', 'name': 'English'}]   \n",
       "13                                                                                  [{'iso_639_1': 'en', 'name': 'English'}]   \n",
       "14                                            [{'iso_639_1': 'en', 'name': 'English'}, {'iso_639_1': 'la', 'name': 'Latin'}]   \n",
       "15                                                                                  [{'iso_639_1': 'en', 'name': 'English'}]   \n",
       "16                                                                                  [{'iso_639_1': 'en', 'name': 'English'}]   \n",
       "17                                                                                  [{'iso_639_1': 'en', 'name': 'English'}]   \n",
       "18                                                                                  [{'iso_639_1': 'en', 'name': 'English'}]   \n",
       "19                                                                                  [{'iso_639_1': 'en', 'name': 'English'}]   \n",
       "20                                                                                  [{'iso_639_1': 'en', 'name': 'English'}]   \n",
       "\n",
       "   iso_639_1_languages               name_languages  \n",
       "0                 [en]                    [English]  \n",
       "1             [en, fr]          [English, Français]  \n",
       "2                 [en]                    [English]  \n",
       "3                 [en]                    [English]  \n",
       "4                 [en]                    [English]  \n",
       "5             [en, es]           [English, Español]  \n",
       "6             [fr, en]          [Français, English]  \n",
       "7             [en, de]           [English, Deutsch]  \n",
       "8                 [en]                    [English]  \n",
       "9         [en, ru, es]  [English, Pусский, Español]  \n",
       "10                [en]                    [English]  \n",
       "11            [en, de]           [English, Deutsch]  \n",
       "12                [en]                    [English]  \n",
       "13                [en]                    [English]  \n",
       "14            [en, la]             [English, Latin]  \n",
       "15                [en]                    [English]  \n",
       "16                [en]                    [English]  \n",
       "17                [en]                    [English]  \n",
       "18                [en]                    [English]  \n",
       "19                [en]                    [English]  \n",
       "20                [en]                    [English]  "
      ]
     },
     "execution_count": 131,
     "metadata": {},
     "output_type": "execute_result"
    }
   ],
   "source": [
    "#mostramos los datos desanidados\n",
    "movies.loc[0:20,['spoken_languages','iso_639_1_languages','name_languages']]"
   ]
  },
  {
   "attachments": {},
   "cell_type": "markdown",
   "metadata": {},
   "source": [
    "#### reemplazar nulos por 0 : revenue, budget"
   ]
  },
  {
   "cell_type": "code",
   "execution_count": 15,
   "metadata": {},
   "outputs": [
    {
     "data": {
      "text/plain": [
       "6"
      ]
     },
     "execution_count": 15,
     "metadata": {},
     "output_type": "execute_result"
    }
   ],
   "source": [
    "# cantidad de valores nulos en renueve, hay 6\n",
    "movies['revenue'].isnull().sum()"
   ]
  },
  {
   "cell_type": "code",
   "execution_count": 50,
   "metadata": {},
   "outputs": [],
   "source": [
    "# reemplazo los valores nulos de renueve por 0\n",
    "movies['revenue'] = movies['revenue'].fillna(0)"
   ]
  },
  {
   "cell_type": "code",
   "execution_count": 41,
   "metadata": {},
   "outputs": [
    {
     "data": {
      "text/plain": [
       "False"
      ]
     },
     "execution_count": 41,
     "metadata": {},
     "output_type": "execute_result"
    }
   ],
   "source": [
    "#en budget no hay nulos\n",
    "movies['budget'].isnull().any()"
   ]
  },
  {
   "attachments": {},
   "cell_type": "markdown",
   "metadata": {},
   "source": [
    "#### eliminar valores nulos : release date"
   ]
  },
  {
   "cell_type": "code",
   "execution_count": 54,
   "metadata": {},
   "outputs": [
    {
     "data": {
      "text/plain": [
       "87"
      ]
     },
     "execution_count": 54,
     "metadata": {},
     "output_type": "execute_result"
    }
   ],
   "source": [
    "#cantidad de valores nulos\n",
    "movies['release_date'].isnull().sum()"
   ]
  },
  {
   "cell_type": "code",
   "execution_count": 95,
   "metadata": {},
   "outputs": [],
   "source": [
    "#elimino los nulos\n",
    "movies.dropna(subset=['release_date'], inplace=True)"
   ]
  },
  {
   "cell_type": "code",
   "execution_count": 96,
   "metadata": {},
   "outputs": [
    {
     "data": {
      "text/plain": [
       "0"
      ]
     },
     "execution_count": 96,
     "metadata": {},
     "output_type": "execute_result"
    }
   ],
   "source": [
    "movies['release_date'].isnull().sum()"
   ]
  },
  {
   "attachments": {},
   "cell_type": "markdown",
   "metadata": {},
   "source": [
    "#### convertir release_date a tipo de dato fecha y crear columna release_year"
   ]
  },
  {
   "cell_type": "code",
   "execution_count": 50,
   "metadata": {},
   "outputs": [
    {
     "data": {
      "text/plain": [
       "0    1995-10-30\n",
       "Name: release_date, dtype: object"
      ]
     },
     "execution_count": 50,
     "metadata": {},
     "output_type": "execute_result"
    }
   ],
   "source": [
    "#observo el primer dato de la columna y que esta de typo objeto\n",
    "movies['release_date'].head(1)"
   ]
  },
  {
   "cell_type": "code",
   "execution_count": 51,
   "metadata": {},
   "outputs": [],
   "source": [
    "#convierto la columna al formato %Y-%m-%d y los valores que no cumplan con el formato los vuelvo null y los elimino\n",
    "movies['release_date'] = pd.to_datetime(movies['release_date'], format='%Y-%m-%d', errors='coerce')\n",
    "movies.dropna(subset=['release_date'], inplace=True)"
   ]
  },
  {
   "cell_type": "code",
   "execution_count": 52,
   "metadata": {},
   "outputs": [
    {
     "data": {
      "text/plain": [
       "0   1995-10-30\n",
       "Name: release_date, dtype: datetime64[ns]"
      ]
     },
     "execution_count": 52,
     "metadata": {},
     "output_type": "execute_result"
    }
   ],
   "source": [
    "#observo el primer dato de la columna y ya convertida en datetime\n",
    "movies['release_date'].head(1)"
   ]
  },
  {
   "cell_type": "code",
   "execution_count": 24,
   "metadata": {},
   "outputs": [],
   "source": [
    "# Extraer el año y crear la columna 'release_year'\n",
    "movies['release_year'] = movies['release_date'].dt.year"
   ]
  },
  {
   "cell_type": "code",
   "execution_count": 25,
   "metadata": {},
   "outputs": [
    {
     "data": {
      "text/plain": [
       "0    1995\n",
       "Name: release_year, dtype: int64"
      ]
     },
     "execution_count": 25,
     "metadata": {},
     "output_type": "execute_result"
    }
   ],
   "source": [
    "#observo el primer dato y que es de tipo entero\n",
    "movies['release_year'].head(1)"
   ]
  },
  {
   "attachments": {},
   "cell_type": "markdown",
   "metadata": {},
   "source": [
    "#### Calcular el retorno de inversión y crear la columna 'return', revenue / budget"
   ]
  },
  {
   "cell_type": "code",
   "execution_count": 114,
   "metadata": {},
   "outputs": [],
   "source": [
    "# Convertir la columna 'budget' a tipo numérico\n",
    "movies['budget'] = pd.to_numeric(movies['budget'], errors='coerce')"
   ]
  },
  {
   "cell_type": "code",
   "execution_count": 29,
   "metadata": {},
   "outputs": [],
   "source": [
    "#formato de visualizacion con dos decimales\n",
    "pd.options.display.float_format = '{:.2f}'.format"
   ]
  },
  {
   "cell_type": "code",
   "execution_count": 123,
   "metadata": {},
   "outputs": [],
   "source": [
    "#creamos la columna return (revenue / budget)\n",
    "movies['return'] = np.divide(movies['revenue'].fillna(0), movies['budget'].fillna(1), where=(movies['budget'] != 0))"
   ]
  },
  {
   "cell_type": "code",
   "execution_count": 10,
   "metadata": {},
   "outputs": [
    {
     "data": {
      "text/plain": [
       "0    12.451801\n",
       "1     4.043035\n",
       "2     0.000000\n",
       "Name: return, dtype: float64"
      ]
     },
     "execution_count": 10,
     "metadata": {},
     "output_type": "execute_result"
    }
   ],
   "source": [
    "# mostramos la columna\n",
    "movies['return'].head(3)"
   ]
  },
  {
   "cell_type": "code",
   "execution_count": 12,
   "metadata": {},
   "outputs": [
    {
     "data": {
      "text/plain": [
       "0    12.45\n",
       "1     4.04\n",
       "2     0.00\n",
       "Name: return, dtype: float64"
      ]
     },
     "execution_count": 12,
     "metadata": {},
     "output_type": "execute_result"
    }
   ],
   "source": [
    "#convertimos la columna a dos decimales\n",
    "movies['return'] = movies['return'].round(2)\n",
    "movies['return'].head(3)"
   ]
  },
  {
   "attachments": {},
   "cell_type": "markdown",
   "metadata": {},
   "source": [
    "#### Eliminar columnas"
   ]
  },
  {
   "cell_type": "code",
   "execution_count": 131,
   "metadata": {},
   "outputs": [],
   "source": [
    "#eliminamos columnas\n",
    "movies = movies.drop(['video','imdb_id','adult','original_title','poster_path','homepage'], axis=1)"
   ]
  },
  {
   "attachments": {},
   "cell_type": "markdown",
   "metadata": {},
   "source": [
    "#### exportamos movies"
   ]
  },
  {
   "cell_type": "code",
   "execution_count": 60,
   "metadata": {},
   "outputs": [
    {
     "data": {
      "text/plain": [
       "(45376, 32)"
      ]
     },
     "execution_count": 60,
     "metadata": {},
     "output_type": "execute_result"
    }
   ],
   "source": [
    "# cantidad de filas y columnas con la limpieza realizada\n",
    "movies.shape"
   ]
  },
  {
   "cell_type": "code",
   "execution_count": 54,
   "metadata": {},
   "outputs": [],
   "source": [
    "#exportamos el archivo con la primera transformacion\n",
    "movies.to_csv('movies_1.csv',index=False, date_format='%Y-%m-%d')"
   ]
  },
  {
   "attachments": {},
   "cell_type": "markdown",
   "metadata": {},
   "source": [
    "# Transformacion credits"
   ]
  },
  {
   "cell_type": "code",
   "execution_count": 18,
   "metadata": {},
   "outputs": [
    {
     "data": {
      "text/html": [
       "<div>\n",
       "<style scoped>\n",
       "    .dataframe tbody tr th:only-of-type {\n",
       "        vertical-align: middle;\n",
       "    }\n",
       "\n",
       "    .dataframe tbody tr th {\n",
       "        vertical-align: top;\n",
       "    }\n",
       "\n",
       "    .dataframe thead th {\n",
       "        text-align: right;\n",
       "    }\n",
       "</style>\n",
       "<table border=\"1\" class=\"dataframe\">\n",
       "  <thead>\n",
       "    <tr style=\"text-align: right;\">\n",
       "      <th></th>\n",
       "      <th>cast</th>\n",
       "      <th>crew</th>\n",
       "      <th>id</th>\n",
       "    </tr>\n",
       "  </thead>\n",
       "  <tbody>\n",
       "    <tr>\n",
       "      <th>0</th>\n",
       "      <td>[{'cast_id': 14, 'character': 'Woody (voice)', 'credit_id': '52fe4284c3a36847f8024f95', 'gender': 2, 'id': 31, 'name': 'Tom Hanks', 'order': 0, 'profile_path': '/pQFoyx7rp09CJT...</td>\n",
       "      <td>[{'credit_id': '52fe4284c3a36847f8024f49', 'department': 'Directing', 'gender': 2, 'id': 7879, 'job': 'Director', 'name': 'John Lasseter', 'profile_path': '/7EdqiNbr4FRjIhKHyPP...</td>\n",
       "      <td>862</td>\n",
       "    </tr>\n",
       "  </tbody>\n",
       "</table>\n",
       "</div>"
      ],
      "text/plain": [
       "                                                                                                                                                                                  cast  \\\n",
       "0  [{'cast_id': 14, 'character': 'Woody (voice)', 'credit_id': '52fe4284c3a36847f8024f95', 'gender': 2, 'id': 31, 'name': 'Tom Hanks', 'order': 0, 'profile_path': '/pQFoyx7rp09CJT...   \n",
       "\n",
       "                                                                                                                                                                                  crew  \\\n",
       "0  [{'credit_id': '52fe4284c3a36847f8024f49', 'department': 'Directing', 'gender': 2, 'id': 7879, 'job': 'Director', 'name': 'John Lasseter', 'profile_path': '/7EdqiNbr4FRjIhKHyPP...   \n",
       "\n",
       "    id  \n",
       "0  862  "
      ]
     },
     "execution_count": 18,
     "metadata": {},
     "output_type": "execute_result"
    }
   ],
   "source": [
    "credits.head(1)"
   ]
  },
  {
   "attachments": {},
   "cell_type": "markdown",
   "metadata": {},
   "source": [
    "#### Desanidar columna cast"
   ]
  },
  {
   "cell_type": "code",
   "execution_count": 7,
   "metadata": {},
   "outputs": [
    {
     "data": {
      "text/plain": [
       "0    [{'cast_id': 14, 'character': 'Woody (voice)', 'credit_id': '52fe4284c3a36847f8024f95', 'gender': 2, 'id': 31, 'name': 'Tom Hanks', 'order': 0, 'profile_path': '/pQFoyx7rp09CJT...\n",
       "1    [{'cast_id': 1, 'character': 'Alan Parrish', 'credit_id': '52fe44bfc3a36847f80a7c73', 'gender': 2, 'id': 2157, 'name': 'Robin Williams', 'order': 0, 'profile_path': '/sojtJyIV3...\n",
       "2    [{'cast_id': 2, 'character': 'Max Goldman', 'credit_id': '52fe466a9251416c75077a8d', 'gender': 2, 'id': 6837, 'name': 'Walter Matthau', 'order': 0, 'profile_path': '/xJVkvprOnz...\n",
       "3    [{'cast_id': 1, 'character': \"Savannah 'Vannah' Jackson\", 'credit_id': '52fe44779251416c91011aad', 'gender': 1, 'id': 8851, 'name': 'Whitney Houston', 'order': 0, 'profile_path...\n",
       "Name: cast, dtype: object"
      ]
     },
     "execution_count": 7,
     "metadata": {},
     "output_type": "execute_result"
    }
   ],
   "source": [
    "#muestro los datos que estan anidados\n",
    "credits.loc[0:3,'cast']"
   ]
  },
  {
   "cell_type": "code",
   "execution_count": 12,
   "metadata": {},
   "outputs": [
    {
     "data": {
      "text/plain": [
       "0"
      ]
     },
     "execution_count": 12,
     "metadata": {},
     "output_type": "execute_result"
    }
   ],
   "source": [
    "#contar valores nulos \n",
    "credits['cast'].isnull().sum()"
   ]
  },
  {
   "cell_type": "code",
   "execution_count": 15,
   "metadata": {},
   "outputs": [],
   "source": [
    "#convierte los valores de la columna en una lista real\n",
    "dummy_6 = credits['cast'].apply(lambda x: ast.literal_eval(x))"
   ]
  },
  {
   "cell_type": "code",
   "execution_count": 19,
   "metadata": {},
   "outputs": [],
   "source": [
    "# Función auxiliar para obtener los valores 'id' y 'name' de una lista\n",
    "def extract_values(lst, key):\n",
    "    if isinstance(lst, list):\n",
    "        return [item[key] for item in lst]\n",
    "    else:\n",
    "        return None\n",
    "    \n",
    "# creamos nuevas columas extrayendo los valores de la lista utilizando indexacion para acceder a\n",
    "# los elemetos de la lista con ayuda de la funcion  extract_values\n",
    "credits['cast_id'] = dummy_6.apply(lambda x: extract_values(x, 'cast_id'))\n",
    "credits['character_cast'] = dummy_6.apply(lambda x: extract_values(x, 'character'))\n",
    "credits['credit_id_cast'] = dummy_6.apply(lambda x: extract_values(x, 'credit_id'))\n",
    "credits['gender_cast'] = dummy_6.apply(lambda x: extract_values(x, 'gender'))\n",
    "credits['id_cast_2'] = dummy_6.apply(lambda x: extract_values(x, 'id'))\n",
    "credits['name_cast'] = dummy_6.apply(lambda x: extract_values(x, 'name'))\n",
    "credits['order_cast'] = dummy_6.apply(lambda x: extract_values(x, 'order'))\n",
    "credits['profile_path_cast'] = dummy_6.apply(lambda x: extract_values(x, 'profile_path'))"
   ]
  },
  {
   "cell_type": "code",
   "execution_count": 21,
   "metadata": {},
   "outputs": [
    {
     "data": {
      "text/html": [
       "<div>\n",
       "<style scoped>\n",
       "    .dataframe tbody tr th:only-of-type {\n",
       "        vertical-align: middle;\n",
       "    }\n",
       "\n",
       "    .dataframe tbody tr th {\n",
       "        vertical-align: top;\n",
       "    }\n",
       "\n",
       "    .dataframe thead th {\n",
       "        text-align: right;\n",
       "    }\n",
       "</style>\n",
       "<table border=\"1\" class=\"dataframe\">\n",
       "  <thead>\n",
       "    <tr style=\"text-align: right;\">\n",
       "      <th></th>\n",
       "      <th>cast</th>\n",
       "      <th>cast_id</th>\n",
       "      <th>character_cast</th>\n",
       "      <th>credit_id_cast</th>\n",
       "      <th>gender_cast</th>\n",
       "      <th>id_cast_2</th>\n",
       "      <th>name_cast</th>\n",
       "      <th>order_cast</th>\n",
       "      <th>profile_path_cast</th>\n",
       "    </tr>\n",
       "  </thead>\n",
       "  <tbody>\n",
       "    <tr>\n",
       "      <th>0</th>\n",
       "      <td>[{'cast_id': 14, 'character': 'Woody (voice)', 'credit_id': '52fe4284c3a36847f8024f95', 'gender': 2, 'id': 31, 'name': 'Tom Hanks', 'order': 0, 'profile_path': '/pQFoyx7rp09CJT...</td>\n",
       "      <td>[14, 15, 16, 17, 18, 19, 20, 26, 22, 23, 24, 25, 27]</td>\n",
       "      <td>['Woody (voice)', 'Buzz Lightyear (voice)', 'Mr. Potato Head (voice)', 'Slinky Dog (voice)', 'Rex (voice)', 'Hamm (voice)', 'Bo Peep (voice)', 'Andy (voice)', 'Sid (voice)', 'M...</td>\n",
       "      <td>['52fe4284c3a36847f8024f95', '52fe4284c3a36847f8024f99', '52fe4284c3a36847f8024f9d', '52fe4284c3a36847f8024fa1', '52fe4284c3a36847f8024fa5', '52fe4284c3a36847f8024fa9', '52fe42...</td>\n",
       "      <td>[2, 2, 2, 2, 2, 2, 1, 0, 2, 1, 2, 1, 2]</td>\n",
       "      <td>[31, 12898, 7167, 12899, 12900, 7907, 8873, 1116442, 12901, 12133, 8655, 12903, 37221]</td>\n",
       "      <td>['Tom Hanks', 'Tim Allen', 'Don Rickles', 'Jim Varney', 'Wallace Shawn', 'John Ratzenberger', 'Annie Potts', 'John Morris', 'Erik von Detten', 'Laurie Metcalf', 'R. Lee Ermey',...</td>\n",
       "      <td>[0, 1, 2, 3, 4, 5, 6, 7, 8, 9, 10, 11, 12]</td>\n",
       "      <td>['/pQFoyx7rp09CJTAb932F2g8Nlho.jpg', '/uX2xVf6pMmPepxnvFWyBtjexzgY.jpg', '/h5BcaDMPRVLHLDzbQavec4xfSdt.jpg', '/eIo2jVVXYgjDtaHoF19Ll9vtW7h.jpg', '/oGE6JqPP2xH4tNORKNqxbNPYi7u.j...</td>\n",
       "    </tr>\n",
       "    <tr>\n",
       "      <th>1</th>\n",
       "      <td>[{'cast_id': 1, 'character': 'Alan Parrish', 'credit_id': '52fe44bfc3a36847f80a7c73', 'gender': 2, 'id': 2157, 'name': 'Robin Williams', 'order': 0, 'profile_path': '/sojtJyIV3...</td>\n",
       "      <td>[1, 8, 2, 24, 10, 25, 26, 11, 14, 13, 31, 12, 28, 29, 30, 32, 33, 34, 35, 36, 37, 50, 39, 40, 41, 42]</td>\n",
       "      <td>['Alan Parrish', 'Samuel Alan Parrish / Van Pelt', 'Judy Sheperd', 'Peter Shepherd', 'Sarah Whittle', 'Nora Shepherd', 'Carl Bentley', 'Carol Anne Parrish', 'Alan Parrish (youn...</td>\n",
       "      <td>['52fe44bfc3a36847f80a7c73', '52fe44bfc3a36847f80a7c99', '52fe44bfc3a36847f80a7c77', '52fe44c0c3a36847f80a7ce7', '52fe44bfc3a36847f80a7c9d', '52fe44c0c3a36847f80a7ceb', '52fe44...</td>\n",
       "      <td>[2, 2, 1, 0, 1, 1, 2, 1, 0, 1, 2, 1, 2, 0, 0, 0, 2, 2, 0, 2, 0, 2, 0, 0, 0, 0]</td>\n",
       "      <td>[2157, 8537, 205, 145151, 5149, 10739, 58563, 1276, 46530, 56523, 51551, 56522, 1000304, 188949, 1076551, 1480246, 25024, 27110, 53715, 1379424, 1235504, 25389, 1483449, 148345...</td>\n",
       "      <td>['Robin Williams', 'Jonathan Hyde', 'Kirsten Dunst', 'Bradley Pierce', 'Bonnie Hunt', 'Bebe Neuwirth', 'David Alan Grier', 'Patricia Clarkson', 'Adam Hann-Byrd', 'Laura Bell Bu...</td>\n",
       "      <td>[0, 1, 2, 3, 4, 5, 6, 7, 8, 9, 10, 11, 12, 13, 14, 15, 16, 17, 18, 19, 20, 21, 22, 23, 24, 25]</td>\n",
       "      <td>['/sojtJyIV3lkUeThD7A2oHNm8183.jpg', '/7il5D76vx6QVRVlpVvBPEC40MBi.jpg', '/wBXvh6PJd0IUVNpvatPC1kzuHtm.jpg', '/j6iW0vVA23GQniAPSYI6mi4hiEW.jpg', '/7spiVQwmr8siw5QCcvvdRG3c7Lf.j...</td>\n",
       "    </tr>\n",
       "    <tr>\n",
       "      <th>2</th>\n",
       "      <td>[{'cast_id': 2, 'character': 'Max Goldman', 'credit_id': '52fe466a9251416c75077a8d', 'gender': 2, 'id': 6837, 'name': 'Walter Matthau', 'order': 0, 'profile_path': '/xJVkvprOnz...</td>\n",
       "      <td>[2, 3, 4, 5, 6, 9, 10]</td>\n",
       "      <td>['Max Goldman', 'John Gustafson', 'Ariel Gustafson', 'Maria Sophia Coletta Ragetti', 'Melanie Gustafson', 'Grandpa Gustafson', 'Jacob Goldman']</td>\n",
       "      <td>['52fe466a9251416c75077a8d', '52fe466a9251416c75077a91', '52fe466a9251416c75077a95', '52fe466a9251416c75077a99', '52fe466a9251416c75077a9d', '53e5fcc2c3a3684430000d65', '53e5fc...</td>\n",
       "      <td>[2, 2, 1, 1, 1, 2, 2]</td>\n",
       "      <td>[6837, 3151, 13567, 16757, 589, 16523, 7166]</td>\n",
       "      <td>['Walter Matthau', 'Jack Lemmon', 'Ann-Margret', 'Sophia Loren', 'Daryl Hannah', 'Burgess Meredith', 'Kevin Pollak']</td>\n",
       "      <td>[0, 1, 2, 3, 4, 5, 6]</td>\n",
       "      <td>['/xJVkvprOnzP5Zdh5y63y8HHniDZ.jpg', '/chZmNRYMtqkiDlatprGDH4BzGqG.jpg', '/jx5lTaJ5VXZHYB52gaOTAZ9STZk.jpg', '/emKLhbji1c7BjcA2DdbWf0EP9zH.jpg', '/4LLmp6AQdlj6ueGCRbVRSGvvFSt.j...</td>\n",
       "    </tr>\n",
       "  </tbody>\n",
       "</table>\n",
       "</div>"
      ],
      "text/plain": [
       "                                                                                                                                                                                  cast  \\\n",
       "0  [{'cast_id': 14, 'character': 'Woody (voice)', 'credit_id': '52fe4284c3a36847f8024f95', 'gender': 2, 'id': 31, 'name': 'Tom Hanks', 'order': 0, 'profile_path': '/pQFoyx7rp09CJT...   \n",
       "1  [{'cast_id': 1, 'character': 'Alan Parrish', 'credit_id': '52fe44bfc3a36847f80a7c73', 'gender': 2, 'id': 2157, 'name': 'Robin Williams', 'order': 0, 'profile_path': '/sojtJyIV3...   \n",
       "2  [{'cast_id': 2, 'character': 'Max Goldman', 'credit_id': '52fe466a9251416c75077a8d', 'gender': 2, 'id': 6837, 'name': 'Walter Matthau', 'order': 0, 'profile_path': '/xJVkvprOnz...   \n",
       "\n",
       "                                                                                                 cast_id  \\\n",
       "0                                                   [14, 15, 16, 17, 18, 19, 20, 26, 22, 23, 24, 25, 27]   \n",
       "1  [1, 8, 2, 24, 10, 25, 26, 11, 14, 13, 31, 12, 28, 29, 30, 32, 33, 34, 35, 36, 37, 50, 39, 40, 41, 42]   \n",
       "2                                                                                 [2, 3, 4, 5, 6, 9, 10]   \n",
       "\n",
       "                                                                                                                                                                        character_cast  \\\n",
       "0  ['Woody (voice)', 'Buzz Lightyear (voice)', 'Mr. Potato Head (voice)', 'Slinky Dog (voice)', 'Rex (voice)', 'Hamm (voice)', 'Bo Peep (voice)', 'Andy (voice)', 'Sid (voice)', 'M...   \n",
       "1  ['Alan Parrish', 'Samuel Alan Parrish / Van Pelt', 'Judy Sheperd', 'Peter Shepherd', 'Sarah Whittle', 'Nora Shepherd', 'Carl Bentley', 'Carol Anne Parrish', 'Alan Parrish (youn...   \n",
       "2                                      ['Max Goldman', 'John Gustafson', 'Ariel Gustafson', 'Maria Sophia Coletta Ragetti', 'Melanie Gustafson', 'Grandpa Gustafson', 'Jacob Goldman']   \n",
       "\n",
       "                                                                                                                                                                        credit_id_cast  \\\n",
       "0  ['52fe4284c3a36847f8024f95', '52fe4284c3a36847f8024f99', '52fe4284c3a36847f8024f9d', '52fe4284c3a36847f8024fa1', '52fe4284c3a36847f8024fa5', '52fe4284c3a36847f8024fa9', '52fe42...   \n",
       "1  ['52fe44bfc3a36847f80a7c73', '52fe44bfc3a36847f80a7c99', '52fe44bfc3a36847f80a7c77', '52fe44c0c3a36847f80a7ce7', '52fe44bfc3a36847f80a7c9d', '52fe44c0c3a36847f80a7ceb', '52fe44...   \n",
       "2  ['52fe466a9251416c75077a8d', '52fe466a9251416c75077a91', '52fe466a9251416c75077a95', '52fe466a9251416c75077a99', '52fe466a9251416c75077a9d', '53e5fcc2c3a3684430000d65', '53e5fc...   \n",
       "\n",
       "                                                                      gender_cast  \\\n",
       "0                                         [2, 2, 2, 2, 2, 2, 1, 0, 2, 1, 2, 1, 2]   \n",
       "1  [2, 2, 1, 0, 1, 1, 2, 1, 0, 1, 2, 1, 2, 0, 0, 0, 2, 2, 0, 2, 0, 2, 0, 0, 0, 0]   \n",
       "2                                                           [2, 2, 1, 1, 1, 2, 2]   \n",
       "\n",
       "                                                                                                                                                                             id_cast_2  \\\n",
       "0                                                                                               [31, 12898, 7167, 12899, 12900, 7907, 8873, 1116442, 12901, 12133, 8655, 12903, 37221]   \n",
       "1  [2157, 8537, 205, 145151, 5149, 10739, 58563, 1276, 46530, 56523, 51551, 56522, 1000304, 188949, 1076551, 1480246, 25024, 27110, 53715, 1379424, 1235504, 25389, 1483449, 148345...   \n",
       "2                                                                                                                                         [6837, 3151, 13567, 16757, 589, 16523, 7166]   \n",
       "\n",
       "                                                                                                                                                                             name_cast  \\\n",
       "0  ['Tom Hanks', 'Tim Allen', 'Don Rickles', 'Jim Varney', 'Wallace Shawn', 'John Ratzenberger', 'Annie Potts', 'John Morris', 'Erik von Detten', 'Laurie Metcalf', 'R. Lee Ermey',...   \n",
       "1  ['Robin Williams', 'Jonathan Hyde', 'Kirsten Dunst', 'Bradley Pierce', 'Bonnie Hunt', 'Bebe Neuwirth', 'David Alan Grier', 'Patricia Clarkson', 'Adam Hann-Byrd', 'Laura Bell Bu...   \n",
       "2                                                                 ['Walter Matthau', 'Jack Lemmon', 'Ann-Margret', 'Sophia Loren', 'Daryl Hannah', 'Burgess Meredith', 'Kevin Pollak']   \n",
       "\n",
       "                                                                                       order_cast  \\\n",
       "0                                                      [0, 1, 2, 3, 4, 5, 6, 7, 8, 9, 10, 11, 12]   \n",
       "1  [0, 1, 2, 3, 4, 5, 6, 7, 8, 9, 10, 11, 12, 13, 14, 15, 16, 17, 18, 19, 20, 21, 22, 23, 24, 25]   \n",
       "2                                                                           [0, 1, 2, 3, 4, 5, 6]   \n",
       "\n",
       "                                                                                                                                                                     profile_path_cast  \n",
       "0  ['/pQFoyx7rp09CJTAb932F2g8Nlho.jpg', '/uX2xVf6pMmPepxnvFWyBtjexzgY.jpg', '/h5BcaDMPRVLHLDzbQavec4xfSdt.jpg', '/eIo2jVVXYgjDtaHoF19Ll9vtW7h.jpg', '/oGE6JqPP2xH4tNORKNqxbNPYi7u.j...  \n",
       "1  ['/sojtJyIV3lkUeThD7A2oHNm8183.jpg', '/7il5D76vx6QVRVlpVvBPEC40MBi.jpg', '/wBXvh6PJd0IUVNpvatPC1kzuHtm.jpg', '/j6iW0vVA23GQniAPSYI6mi4hiEW.jpg', '/7spiVQwmr8siw5QCcvvdRG3c7Lf.j...  \n",
       "2  ['/xJVkvprOnzP5Zdh5y63y8HHniDZ.jpg', '/chZmNRYMtqkiDlatprGDH4BzGqG.jpg', '/jx5lTaJ5VXZHYB52gaOTAZ9STZk.jpg', '/emKLhbji1c7BjcA2DdbWf0EP9zH.jpg', '/4LLmp6AQdlj6ueGCRbVRSGvvFSt.j...  "
      ]
     },
     "execution_count": 21,
     "metadata": {},
     "output_type": "execute_result"
    }
   ],
   "source": [
    "#muestro las columnas creadas\n",
    "credits.loc[0:2,['cast','cast_id','character_cast','credit_id_cast','gender_cast','id_cast_2','name_cast','order_cast','profile_path_cast']]"
   ]
  },
  {
   "attachments": {},
   "cell_type": "markdown",
   "metadata": {},
   "source": [
    "#### Desanidar columna crew"
   ]
  },
  {
   "cell_type": "code",
   "execution_count": 22,
   "metadata": {},
   "outputs": [
    {
     "data": {
      "text/plain": [
       "0    [{'credit_id': '52fe4284c3a36847f8024f49', 'department': 'Directing', 'gender': 2, 'id': 7879, 'job': 'Director', 'name': 'John Lasseter', 'profile_path': '/7EdqiNbr4FRjIhKHyPP...\n",
       "1    [{'credit_id': '52fe44bfc3a36847f80a7cd1', 'department': 'Production', 'gender': 2, 'id': 511, 'job': 'Executive Producer', 'name': 'Larry J. Franco', 'profile_path': None}, {'...\n",
       "2    [{'credit_id': '52fe466a9251416c75077a89', 'department': 'Directing', 'gender': 2, 'id': 26502, 'job': 'Director', 'name': 'Howard Deutch', 'profile_path': '/68Vae1HkU1NxQZ6KEm...\n",
       "Name: crew, dtype: object"
      ]
     },
     "execution_count": 22,
     "metadata": {},
     "output_type": "execute_result"
    }
   ],
   "source": [
    "#observamos la columna\n",
    "credits.loc[0:2,'crew']"
   ]
  },
  {
   "cell_type": "code",
   "execution_count": 23,
   "metadata": {},
   "outputs": [
    {
     "data": {
      "text/plain": [
       "0"
      ]
     },
     "execution_count": 23,
     "metadata": {},
     "output_type": "execute_result"
    }
   ],
   "source": [
    "#cantidad de datos nulos en la columna crew\n",
    "credits['crew'].isnull().sum()"
   ]
  },
  {
   "cell_type": "code",
   "execution_count": 25,
   "metadata": {},
   "outputs": [],
   "source": [
    "#convierte los valores de la columna en una lista real\n",
    "dummy_7 = credits['crew'].apply(lambda x: ast.literal_eval(x))"
   ]
  },
  {
   "cell_type": "code",
   "execution_count": 28,
   "metadata": {},
   "outputs": [],
   "source": [
    "# Función auxiliar para obtener los valores 'id' y 'name' de una lista\n",
    "def extract_values(lst, key):\n",
    "    if isinstance(lst, list):\n",
    "        return [item[key] for item in lst]\n",
    "    else:\n",
    "        return None\n",
    "    \n",
    "# creamos nuevas columas extrayendo los valores de la lista utilizando indexacion para acceder a\n",
    "# los elemetos de la lista con ayuda de la funcion  extract_values\n",
    "credits['credit_id_crew'] = dummy_7.apply(lambda x: extract_values(x, 'credit_id'))\n",
    "credits['department_crew'] = dummy_7.apply(lambda x: extract_values(x, 'department'))\n",
    "credits['gender_crew'] = dummy_7.apply(lambda x: extract_values(x, 'gender'))\n",
    "credits['id_crew_2'] = dummy_7.apply(lambda x: extract_values(x, 'id'))\n",
    "credits['job_crew'] = dummy_7.apply(lambda x: extract_values(x, 'job'))\n",
    "credits['name_crew'] = dummy_7.apply(lambda x: extract_values(x, 'name'))\n",
    "credits['profile_path_crew'] = dummy_7.apply(lambda x: extract_values(x, 'profile_path'))"
   ]
  },
  {
   "cell_type": "code",
   "execution_count": 29,
   "metadata": {},
   "outputs": [
    {
     "data": {
      "text/html": [
       "<div>\n",
       "<style scoped>\n",
       "    .dataframe tbody tr th:only-of-type {\n",
       "        vertical-align: middle;\n",
       "    }\n",
       "\n",
       "    .dataframe tbody tr th {\n",
       "        vertical-align: top;\n",
       "    }\n",
       "\n",
       "    .dataframe thead th {\n",
       "        text-align: right;\n",
       "    }\n",
       "</style>\n",
       "<table border=\"1\" class=\"dataframe\">\n",
       "  <thead>\n",
       "    <tr style=\"text-align: right;\">\n",
       "      <th></th>\n",
       "      <th>crew</th>\n",
       "      <th>credit_id_crew</th>\n",
       "      <th>department_crew</th>\n",
       "      <th>gender_crew</th>\n",
       "      <th>id_crew_2</th>\n",
       "      <th>job_crew</th>\n",
       "      <th>name_crew</th>\n",
       "      <th>profile_path_crew</th>\n",
       "    </tr>\n",
       "  </thead>\n",
       "  <tbody>\n",
       "    <tr>\n",
       "      <th>0</th>\n",
       "      <td>[{'credit_id': '52fe4284c3a36847f8024f49', 'department': 'Directing', 'gender': 2, 'id': 7879, 'job': 'Director', 'name': 'John Lasseter', 'profile_path': '/7EdqiNbr4FRjIhKHyPP...</td>\n",
       "      <td>[52fe4284c3a36847f8024f49, 52fe4284c3a36847f8024f4f, 52fe4284c3a36847f8024f55, 52fe4284c3a36847f8024f5b, 52fe4284c3a36847f8024f61, 52fe4284c3a36847f8024f67, 52fe4284c3a36847f80...</td>\n",
       "      <td>[Directing, Writing, Writing, Writing, Writing, Production, Production, Production, Production, Editing, Art, Editing, Sound, Visual Effects, Sound, Sound, Editing, Visual Effe...</td>\n",
       "      <td>[2, 2, 2, 2, 0, 1, 0, 2, 2, 2, 2, 2, 0, 0, 0, 2, 0, 0, 2, 2, 0, 0, 0, 2, 2, 0, 2, 0, 0, 0, 0, 0, 2, 2, 2, 2, 0, 0, 0, 0, 0, 0, 0, 0, 0, 2, 0, 0, 0, 0, 2, 0, 2, 0, 2, 0, 0, 0, 0...</td>\n",
       "      <td>[7879, 12891, 7, 12892, 12893, 12894, 12895, 12896, 12897, 8, 7883, 1168870, 1552883, 1453514, 1414182, 7885, 1429549, 7949, 7879, 12890, 7911, 1629419, 7961, 12905, 7885, 1748...</td>\n",
       "      <td>[Director, Screenplay, Screenplay, Screenplay, Screenplay, Producer, Executive Producer, Producer, Executive Producer, Editor, Art Direction, Editor, Foley Editor, Animation, A...</td>\n",
       "      <td>[John Lasseter, Joss Whedon, Andrew Stanton, Joel Cohen, Alec Sokolow, Bonnie Arnold, Ed Catmull, Ralph Guggenheim, Steve Jobs, Lee Unkrich, Ralph Eggleston, Robert Gordon, Mar...</td>\n",
       "      <td>[/7EdqiNbr4FRjIhKHyPPdFfEEEFG.jpg, /dTiVsuaTVTeGmvkhcyJvKp2A5kr.jpg, /pvQWsu0qc8JFQhMVJkTHuexUAa1.jpg, /dAubAiZcvKFbboWlj7oXOkZnTSu.jpg, /v79vlRYi94BZUQnkkyznbGUZLjT.jpg, None,...</td>\n",
       "    </tr>\n",
       "    <tr>\n",
       "      <th>1</th>\n",
       "      <td>[{'credit_id': '52fe44bfc3a36847f80a7cd1', 'department': 'Production', 'gender': 2, 'id': 511, 'job': 'Executive Producer', 'name': 'Larry J. Franco', 'profile_path': None}, {'...</td>\n",
       "      <td>[52fe44bfc3a36847f80a7cd1, 52fe44bfc3a36847f80a7c89, 52fe44bfc3a36847f80a7cdd, 52fe44bfc3a36847f80a7c7d, 52fe44bfc3a36847f80a7cd7, 573523bec3a368025100062c, 5722a924c3a3682d1e0...</td>\n",
       "      <td>[Production, Writing, Sound, Directing, Editing, Production, Visual Effects, Art, Production, Production, Production, Camera, Writing, Production, Writing, Writing]</td>\n",
       "      <td>[2, 2, 2, 2, 2, 0, 0, 2, 2, 2, 2, 2, 2, 2, 2, 2]</td>\n",
       "      <td>[511, 876, 1729, 4945, 4951, 4952, 8023, 9967, 9184, 9196, 18389, 11371, 42356, 42357, 56520, 56521]</td>\n",
       "      <td>[Executive Producer, Screenplay, Original Music Composer, Director, Editor, Casting, Animation Supervisor, Production Design, Producer, Executive Producer, Executive Producer, ...</td>\n",
       "      <td>[Larry J. Franco, Jonathan Hensleigh, James Horner, Joe Johnston, Robert Dalva, Nancy Foy, Kyle Balda, James D. Bissell, Scott Kroopf, Ted Field, Robert W. Cort, Thomas E. Acke...</td>\n",
       "      <td>[None, /l1c4UFD3g0HVWj5f0CxXAvMAGiT.jpg, /oLOtXxXsYk8X4qq0ud4xVypXudi.jpg, /fok4jaO62v5IP6hkpaaAcXuw2H.jpg, None, /blCkmS4dqNsbPGuQfozHE6wgWBw.jpg, /jR8iAP6uC0V42KbUG87qBIUO3Hj...</td>\n",
       "    </tr>\n",
       "    <tr>\n",
       "      <th>2</th>\n",
       "      <td>[{'credit_id': '52fe466a9251416c75077a89', 'department': 'Directing', 'gender': 2, 'id': 26502, 'job': 'Director', 'name': 'Howard Deutch', 'profile_path': '/68Vae1HkU1NxQZ6KEm...</td>\n",
       "      <td>[52fe466a9251416c75077a89, 52fe466b9251416c75077aa3, 52fe466b9251416c75077aa9, 5675eb4b92514179dd003933]</td>\n",
       "      <td>[Directing, Writing, Writing, Crew]</td>\n",
       "      <td>[2, 2, 2, 2]</td>\n",
       "      <td>[26502, 16837, 16837, 1551320]</td>\n",
       "      <td>[Director, Characters, Writer, Sound Recordist]</td>\n",
       "      <td>[Howard Deutch, Mark Steven Johnson, Mark Steven Johnson, Jack Keller]</td>\n",
       "      <td>[/68Vae1HkU1NxQZ6KEmuxIpno7c9.jpg, /6trChNn3o2bi4i2ipgMEAytwmZp.jpg, /6trChNn3o2bi4i2ipgMEAytwmZp.jpg, None]</td>\n",
       "    </tr>\n",
       "  </tbody>\n",
       "</table>\n",
       "</div>"
      ],
      "text/plain": [
       "                                                                                                                                                                                  crew  \\\n",
       "0  [{'credit_id': '52fe4284c3a36847f8024f49', 'department': 'Directing', 'gender': 2, 'id': 7879, 'job': 'Director', 'name': 'John Lasseter', 'profile_path': '/7EdqiNbr4FRjIhKHyPP...   \n",
       "1  [{'credit_id': '52fe44bfc3a36847f80a7cd1', 'department': 'Production', 'gender': 2, 'id': 511, 'job': 'Executive Producer', 'name': 'Larry J. Franco', 'profile_path': None}, {'...   \n",
       "2  [{'credit_id': '52fe466a9251416c75077a89', 'department': 'Directing', 'gender': 2, 'id': 26502, 'job': 'Director', 'name': 'Howard Deutch', 'profile_path': '/68Vae1HkU1NxQZ6KEm...   \n",
       "\n",
       "                                                                                                                                                                        credit_id_crew  \\\n",
       "0  [52fe4284c3a36847f8024f49, 52fe4284c3a36847f8024f4f, 52fe4284c3a36847f8024f55, 52fe4284c3a36847f8024f5b, 52fe4284c3a36847f8024f61, 52fe4284c3a36847f8024f67, 52fe4284c3a36847f80...   \n",
       "1  [52fe44bfc3a36847f80a7cd1, 52fe44bfc3a36847f80a7c89, 52fe44bfc3a36847f80a7cdd, 52fe44bfc3a36847f80a7c7d, 52fe44bfc3a36847f80a7cd7, 573523bec3a368025100062c, 5722a924c3a3682d1e0...   \n",
       "2                                                                             [52fe466a9251416c75077a89, 52fe466b9251416c75077aa3, 52fe466b9251416c75077aa9, 5675eb4b92514179dd003933]   \n",
       "\n",
       "                                                                                                                                                                       department_crew  \\\n",
       "0  [Directing, Writing, Writing, Writing, Writing, Production, Production, Production, Production, Editing, Art, Editing, Sound, Visual Effects, Sound, Sound, Editing, Visual Effe...   \n",
       "1                 [Production, Writing, Sound, Directing, Editing, Production, Visual Effects, Art, Production, Production, Production, Camera, Writing, Production, Writing, Writing]   \n",
       "2                                                                                                                                                  [Directing, Writing, Writing, Crew]   \n",
       "\n",
       "                                                                                                                                                                           gender_crew  \\\n",
       "0  [2, 2, 2, 2, 0, 1, 0, 2, 2, 2, 2, 2, 0, 0, 0, 2, 0, 0, 2, 2, 0, 0, 0, 2, 2, 0, 2, 0, 0, 0, 0, 0, 2, 2, 2, 2, 0, 0, 0, 0, 0, 0, 0, 0, 0, 2, 0, 0, 0, 0, 2, 0, 2, 0, 2, 0, 0, 0, 0...   \n",
       "1                                                                                                                                     [2, 2, 2, 2, 2, 0, 0, 2, 2, 2, 2, 2, 2, 2, 2, 2]   \n",
       "2                                                                                                                                                                         [2, 2, 2, 2]   \n",
       "\n",
       "                                                                                                                                                                             id_crew_2  \\\n",
       "0  [7879, 12891, 7, 12892, 12893, 12894, 12895, 12896, 12897, 8, 7883, 1168870, 1552883, 1453514, 1414182, 7885, 1429549, 7949, 7879, 12890, 7911, 1629419, 7961, 12905, 7885, 1748...   \n",
       "1                                                                                 [511, 876, 1729, 4945, 4951, 4952, 8023, 9967, 9184, 9196, 18389, 11371, 42356, 42357, 56520, 56521]   \n",
       "2                                                                                                                                                       [26502, 16837, 16837, 1551320]   \n",
       "\n",
       "                                                                                                                                                                              job_crew  \\\n",
       "0  [Director, Screenplay, Screenplay, Screenplay, Screenplay, Producer, Executive Producer, Producer, Executive Producer, Editor, Art Direction, Editor, Foley Editor, Animation, A...   \n",
       "1  [Executive Producer, Screenplay, Original Music Composer, Director, Editor, Casting, Animation Supervisor, Production Design, Producer, Executive Producer, Executive Producer, ...   \n",
       "2                                                                                                                                      [Director, Characters, Writer, Sound Recordist]   \n",
       "\n",
       "                                                                                                                                                                             name_crew  \\\n",
       "0  [John Lasseter, Joss Whedon, Andrew Stanton, Joel Cohen, Alec Sokolow, Bonnie Arnold, Ed Catmull, Ralph Guggenheim, Steve Jobs, Lee Unkrich, Ralph Eggleston, Robert Gordon, Mar...   \n",
       "1  [Larry J. Franco, Jonathan Hensleigh, James Horner, Joe Johnston, Robert Dalva, Nancy Foy, Kyle Balda, James D. Bissell, Scott Kroopf, Ted Field, Robert W. Cort, Thomas E. Acke...   \n",
       "2                                                                                                               [Howard Deutch, Mark Steven Johnson, Mark Steven Johnson, Jack Keller]   \n",
       "\n",
       "                                                                                                                                                                     profile_path_crew  \n",
       "0  [/7EdqiNbr4FRjIhKHyPPdFfEEEFG.jpg, /dTiVsuaTVTeGmvkhcyJvKp2A5kr.jpg, /pvQWsu0qc8JFQhMVJkTHuexUAa1.jpg, /dAubAiZcvKFbboWlj7oXOkZnTSu.jpg, /v79vlRYi94BZUQnkkyznbGUZLjT.jpg, None,...  \n",
       "1  [None, /l1c4UFD3g0HVWj5f0CxXAvMAGiT.jpg, /oLOtXxXsYk8X4qq0ud4xVypXudi.jpg, /fok4jaO62v5IP6hkpaaAcXuw2H.jpg, None, /blCkmS4dqNsbPGuQfozHE6wgWBw.jpg, /jR8iAP6uC0V42KbUG87qBIUO3Hj...  \n",
       "2                                                                         [/68Vae1HkU1NxQZ6KEmuxIpno7c9.jpg, /6trChNn3o2bi4i2ipgMEAytwmZp.jpg, /6trChNn3o2bi4i2ipgMEAytwmZp.jpg, None]  "
      ]
     },
     "execution_count": 29,
     "metadata": {},
     "output_type": "execute_result"
    }
   ],
   "source": [
    "#mostramos las columnas creadas\n",
    "credits.loc[0:2,['crew','credit_id_crew','department_crew','gender_crew','id_crew_2','job_crew','name_crew','profile_path_crew']]"
   ]
  },
  {
   "attachments": {},
   "cell_type": "markdown",
   "metadata": {},
   "source": [
    "#### Exportamos credits"
   ]
  },
  {
   "cell_type": "code",
   "execution_count": 23,
   "metadata": {},
   "outputs": [
    {
     "data": {
      "text/plain": [
       "(45476, 18)"
      ]
     },
     "execution_count": 23,
     "metadata": {},
     "output_type": "execute_result"
    }
   ],
   "source": [
    "credits.shape"
   ]
  },
  {
   "cell_type": "code",
   "execution_count": 31,
   "metadata": {},
   "outputs": [],
   "source": [
    "#exportamos el archivo con la primera transformacion\n",
    "credits.to_csv('credits_1.csv',index=False)"
   ]
  },
  {
   "attachments": {},
   "cell_type": "markdown",
   "metadata": {},
   "source": [
    "# cargamos los csv actualizados"
   ]
  },
  {
   "cell_type": "code",
   "execution_count": 3,
   "metadata": {},
   "outputs": [],
   "source": [
    "#cargamos los csv ya transformados\n",
    "movies = pd.read_csv('movies_1.csv',parse_dates=['release_date'])\n",
    "credits = pd.read_csv('credits_1.csv')"
   ]
  },
  {
   "cell_type": "code",
   "execution_count": null,
   "metadata": {},
   "outputs": [],
   "source": [
    "# Unir los DataFrames por medio de sus ID\n",
    "mov_cre = pd.merge(movies,credits, on='id')\n",
    "# Guardar el DataFrame fusionado en un nuevo archivo CSV\n",
    "mov_cre.to_csv('mov_cre.csv', index=False)"
   ]
  },
  {
   "cell_type": "code",
   "execution_count": 3,
   "metadata": {},
   "outputs": [],
   "source": [
    "#cargar mov_cre\n",
    "mov_cre = pd.read_csv('mov_cre.csv')"
   ]
  },
  {
   "cell_type": "code",
   "execution_count": 9,
   "metadata": {},
   "outputs": [],
   "source": [
    "# filtrar el dataframe mov_cre con las columnas necesarias para realizar las funciones y nos quede con un tamaño pequeño para poder subirlo a github\n",
    "columnas_deseadas = ['release_date', 'id', 'title', 'release_year', 'popularity', 'vote_count', 'vote_average',\n",
    "                    'name_cast', 'return', 'name_crew', 'budget', 'revenue']\n",
    "movies_final = mov_cre.loc[:, columnas_deseadas]\n"
   ]
  },
  {
   "cell_type": "code",
   "execution_count": 15,
   "metadata": {},
   "outputs": [],
   "source": [
    "#convierto la columna al formato %Y-%m-%d\n",
    "movies_final['release_date'] = pd.to_datetime(movies_final['release_date'], format='%Y-%m-%d', errors='coerce')\n"
   ]
  },
  {
   "cell_type": "code",
   "execution_count": null,
   "metadata": {},
   "outputs": [],
   "source": [
    "# Guardar el DataFrame fusionado en un nuevo archivo CSV\n",
    "movies_final.to_csv('movies_final.csv', index=False)"
   ]
  },
  {
   "cell_type": "code",
   "execution_count": 36,
   "metadata": {},
   "outputs": [],
   "source": [
    "#cargo el dataraframe movies_final\n",
    "movies_final = pd.read_csv('movies_final.csv',parse_dates=['release_date'])"
   ]
  },
  {
   "cell_type": "code",
   "execution_count": 37,
   "metadata": {},
   "outputs": [
    {
     "data": {
      "text/plain": [
       "(45451, 12)"
      ]
     },
     "execution_count": 37,
     "metadata": {},
     "output_type": "execute_result"
    }
   ],
   "source": [
    "#numero de filas y columnas\n",
    "movies_final.shape"
   ]
  },
  {
   "cell_type": "code",
   "execution_count": 38,
   "metadata": {},
   "outputs": [
    {
     "data": {
      "text/plain": [
       "release_date    datetime64[ns]\n",
       "id                       int64\n",
       "title                   object\n",
       "release_year             int64\n",
       "popularity             float64\n",
       "vote_count             float64\n",
       "vote_average           float64\n",
       "name_cast               object\n",
       "return                 float64\n",
       "name_crew               object\n",
       "budget                   int64\n",
       "revenue                float64\n",
       "dtype: object"
      ]
     },
     "execution_count": 38,
     "metadata": {},
     "output_type": "execute_result"
    }
   ],
   "source": [
    "#observo el tipo de dato de cada columna\n",
    "movies_final.dtypes"
   ]
  },
  {
   "attachments": {},
   "cell_type": "markdown",
   "metadata": {},
   "source": [
    "# Funciones"
   ]
  },
  {
   "attachments": {},
   "cell_type": "markdown",
   "metadata": {},
   "source": [
    "#### cantidad de peliculas por mes"
   ]
  },
  {
   "cell_type": "code",
   "execution_count": 22,
   "metadata": {},
   "outputs": [],
   "source": [
    "def cantidad_filmaciones_mes(mes):\n",
    "    # funcion recibe como parametro el mes y retorna la cantidad de peliculas que fueron firmadas en ese mes.\n",
    "    \n",
    "    # convertir el mes consultado a minuscula\n",
    "    mes = mes.lower()\n",
    "    \n",
    "    #diccionario de meses con su numero correspondiente\n",
    "    meses = {\n",
    "    'enero': 1,\n",
    "    'febrero': 2,\n",
    "    'marzo': 3,\n",
    "    'abril': 4,\n",
    "    'mayo': 5,\n",
    "    'junio': 6,\n",
    "    'julio': 7,\n",
    "    'agosto': 8,\n",
    "    'septiembre': 9,\n",
    "    'octubre': 10,\n",
    "    'noviembre': 11,\n",
    "    'diciembre': 12}\n",
    "\n",
    "    #obtengo el numero del mes consultado\n",
    "    mes_numero = meses[mes]\n",
    "\n",
    "    #obtengo los meses en formato numerico y los comparo con el numero del mes consultado y devuelve una serie booleana con valores true\n",
    "    # Tratamos la excepciòn\n",
    "    try:\n",
    "        month_filtered = movies_final[movies_final['release_date'].dt.month == mes_numero]\n",
    "    except (ValueError, KeyError, TypeError):\n",
    "        return None\n",
    "\n",
    "    # Filtramos valores duplicados del dataframe y calculamos\n",
    "    month_unique = month_filtered.drop_duplicates(subset='id')\n",
    "    respuesta = month_unique.shape[0]\n",
    "\n",
    "    #return {f\"{respuesta} cantidad de películas fueron estrenadas en el mes de {mes.capitalize()}\"}\n",
    "    return {'mes':mes, 'cantidad':respuesta}\n"
   ]
  },
  {
   "cell_type": "code",
   "execution_count": 23,
   "metadata": {},
   "outputs": [
    {
     "data": {
      "text/plain": [
       "{'mes': 'enero', 'cantidad': 5909}"
      ]
     },
     "execution_count": 23,
     "metadata": {},
     "output_type": "execute_result"
    }
   ],
   "source": [
    "cantidad_filmaciones_mes('enero')"
   ]
  },
  {
   "attachments": {},
   "cell_type": "markdown",
   "metadata": {},
   "source": [
    "#### cantidad de peliculas por dia"
   ]
  },
  {
   "cell_type": "code",
   "execution_count": 24,
   "metadata": {},
   "outputs": [],
   "source": [
    "def cantidad_filmaciones_dia(dia):\n",
    " # funcion recibe como parametro el dia y retorna la cantidad de peliculas que fueron firmadas en ese dia de la semana.\n",
    "    \n",
    "    #diccionario de cada dia, con su valor en ingles para utilixar el metodo day_name()\n",
    "    days = {\n",
    "    'lunes': 'Monday',\n",
    "    'martes': 'Tuesday',\n",
    "    'miercoles': 'Wednesday',\n",
    "    'jueves': 'Thursday',\n",
    "    'viernes': 'Friday',\n",
    "    'sabado': 'Saturday',\n",
    "    'domingo': 'Sunday'}\n",
    "\n",
    "    # convertimos el dia en minuscula y obtengo el dia consultado\n",
    "    day = days[dia.lower()]\n",
    "\n",
    "    # obtengo el dia de la columna release_date,Filtramos los duplicados y calculamos\n",
    "    lista_peliculas_day = movies_final[movies_final['release_date'].dt.day_name() == day].drop_duplicates(subset='id')\n",
    "    respuesta = lista_peliculas_day.shape[0]\n",
    "\n",
    "    #return {f\"{respuesta} cantidad de películas fueron estrenadas en el dia {dia.capitalize()}\"}\n",
    "    return {'dia':dia, 'cantidad':respuesta}"
   ]
  },
  {
   "cell_type": "code",
   "execution_count": 25,
   "metadata": {},
   "outputs": [
    {
     "data": {
      "text/plain": [
       "{'dia': 'lunes', 'cantidad': 3500}"
      ]
     },
     "execution_count": 25,
     "metadata": {},
     "output_type": "execute_result"
    }
   ],
   "source": [
    "cantidad_filmaciones_dia('lunes')"
   ]
  },
  {
   "attachments": {},
   "cell_type": "markdown",
   "metadata": {},
   "source": [
    "#### funcion pelicula,año,score"
   ]
  },
  {
   "cell_type": "code",
   "execution_count": 26,
   "metadata": {},
   "outputs": [],
   "source": [
    "def score_titulo(titulo):\n",
    "    # funcion que recibe el nombre de la pelicula y retorna su titulo, año y score\n",
    "    \n",
    "    #filtro los datos por medio del titulo y elimino los duplicados\n",
    "   lista_peliculas_title = movies_final[movies_final['title'] == titulo].drop_duplicates(subset='title')    \n",
    "   #obtengo el titulo, año y score por su indice\n",
    "   titulo = lista_peliculas_title['title'].iloc[0]\n",
    "   año = lista_peliculas_title['release_year'].iloc[0]\n",
    "   score = lista_peliculas_title['popularity'].iloc[0]\n",
    "       \n",
    "   #return {f\"la pelicula {titulo} fue estrenada en el año {año} con un score de {score}\"}\n",
    "   return {'titulo':titulo, 'año':año, 'popularidad':score}"
   ]
  },
  {
   "cell_type": "code",
   "execution_count": 27,
   "metadata": {},
   "outputs": [
    {
     "data": {
      "text/plain": [
       "{'titulo': 'Toy Story', 'año': 1995, 'popularidad': 21.946943}"
      ]
     },
     "execution_count": 27,
     "metadata": {},
     "output_type": "execute_result"
    }
   ],
   "source": [
    "score_titulo('Toy Story')"
   ]
  },
  {
   "attachments": {},
   "cell_type": "markdown",
   "metadata": {},
   "source": [
    "#### funcion pelicula,año,votos y promedio"
   ]
  },
  {
   "cell_type": "code",
   "execution_count": 28,
   "metadata": {},
   "outputs": [],
   "source": [
    "def votos_titulo(titulo):\n",
    " # funcion que recibe el nombre de la pelicula y retorna su titulo, año, cantidad de votos y promedio de votos\n",
    "    \n",
    "    #filtro los datos por medio del titulo y elimino los duplicados\n",
    "    lista_peliculas_title = movies_final[movies_final['title'] == titulo].drop_duplicates(subset='title')    \n",
    "    #obtengo el titulo, año, votos y promedio por su indice\n",
    "    titulo = lista_peliculas_title['title'].iloc[0]\n",
    "    año = lista_peliculas_title['release_year'].iloc[0]\n",
    "    votos = lista_peliculas_title['vote_count'].iloc[0]\n",
    "    votos_promedio = lista_peliculas_title['vote_average'].iloc[0]\n",
    "    \n",
    "     # Verificar si la variable 'votos' cumple la condición mínima de 2000 valoraciones\n",
    "    if votos >= 2000:\n",
    "        #return f\"La película {titulo} fue estrenada en el año {año}. La misma cuenta con un total de {votos} valoraciones, con un promedio de {votos_promedio}.\"\n",
    "        return {'titulo':titulo, 'año':año, 'voto_total':votos, 'voto_promedio':votos_promedio}    \n",
    "    else:\n",
    "        return \"La película no cumple con la condición mínima de 2000 valoraciones.\"\n",
    "    "
   ]
  },
  {
   "cell_type": "code",
   "execution_count": 29,
   "metadata": {},
   "outputs": [
    {
     "data": {
      "text/plain": [
       "{'titulo': 'Toy Story',\n",
       " 'año': 1995,\n",
       " 'voto_total': 5415.0,\n",
       " 'voto_promedio': 7.7}"
      ]
     },
     "execution_count": 29,
     "metadata": {},
     "output_type": "execute_result"
    }
   ],
   "source": [
    "votos_titulo('Toy Story')"
   ]
  },
  {
   "attachments": {},
   "cell_type": "markdown",
   "metadata": {},
   "source": [
    "#### funcion actor,retorno,cantidad de peliculas,promedio de retorno"
   ]
  },
  {
   "cell_type": "code",
   "execution_count": 30,
   "metadata": {},
   "outputs": [],
   "source": [
    "def get_actor( nombre_actor ):\n",
    "    # funcion que recibe el nombre del actor y retorna nombre,cantidad de peliculas que a participado, retorno conseguido y \n",
    "    # promedio del retorno por peliculas\n",
    "        \n",
    "    # Filtrar los datos por nombre del actor y eliminar duplicados\n",
    "    lista_peli_actor = movies_final[movies_final['name_cast'].apply(lambda x: nombre_actor in x)].drop_duplicates(subset='id')\n",
    "    \n",
    "    # Verificar si se encontraron registros para el actor\n",
    "    if len(lista_peli_actor) > 0:\n",
    "        \n",
    "        # Obtener las películas en las que ha participado el actor\n",
    "        peliculas = lista_peli_actor['title'].tolist()        \n",
    "        cantidad_peliculas = len(peliculas)\n",
    "        \n",
    "        #calculamos el retorno y promedio por pelicula\n",
    "        retorno_conseguido = lista_peli_actor['return'].sum()\n",
    "        promedio_retorno = retorno_conseguido / cantidad_peliculas\n",
    "        \n",
    "        #return f\"El actor {nombre_actor} ha participado de {cantidad_peliculas} cantidad de filmaciones, el mismo ha conseguido un retorno de {retorno_conseguido} con un promedio de {promedio_retorno} por filmación\"\n",
    "        return {\"nombre\": nombre_actor,\"cantidad_peliculas\": cantidad_peliculas,\"retorno_conseguido\": retorno_conseguido,\"promedio_retorno\": promedio_retorno}    \n",
    "    else:\n",
    "        return f\"No se encontraron registros para el actor {nombre_actor}.\""
   ]
  },
  {
   "cell_type": "code",
   "execution_count": 24,
   "metadata": {},
   "outputs": [
    {
     "data": {
      "text/plain": [
       "{'nombre': 'Robin Williams',\n",
       " 'cantidad_peliculas': 82,\n",
       " 'retorno_conseguido': 66500155.66,\n",
       " 'promedio_retorno': 810977.5080487805}"
      ]
     },
     "execution_count": 24,
     "metadata": {},
     "output_type": "execute_result"
    }
   ],
   "source": [
    "get_actor('Robin Williams')"
   ]
  },
  {
   "attachments": {},
   "cell_type": "markdown",
   "metadata": {},
   "source": [
    "#### funcion director"
   ]
  },
  {
   "cell_type": "code",
   "execution_count": 32,
   "metadata": {},
   "outputs": [],
   "source": [
    "def get_director(nombre_director):\n",
    "    # Filtrar los datos por nombre del director y eliminar duplicados\n",
    "    lista_peli_director = movies_final[movies_final['name_crew'].apply(lambda x: nombre_director in x)].drop_duplicates(subset='id')\n",
    "    \n",
    "    # Verificar si se encontraron registros para el director\n",
    "    if len(lista_peli_director) > 0:\n",
    "        # Calcular el éxito del director a través del retorno\n",
    "        retorno_total = lista_peli_director['return'].sum()\n",
    "        \n",
    "        # Crear una lista de diccionarios con la información de cada película\n",
    "        peliculas_info = []\n",
    "        for index, row in lista_peli_director.iterrows():\n",
    "            pelicula_info = {\n",
    "                \"nombre_pelicula\": row['title'],\n",
    "                \"fecha_lanzamiento\": row['release_date'],\n",
    "                \"retorno_individual\": row['return'],\n",
    "                \"costo\": row['budget'],\n",
    "                \"ganancia\": row['revenue']\n",
    "            }\n",
    "            peliculas_info.append(pelicula_info)\n",
    "        \n",
    "        return {\n",
    "            \"nombre_director\": nombre_director,\n",
    "            \"retorno_total\": retorno_total,\n",
    "            \"peliculas_info\": peliculas_info\n",
    "        }\n",
    "    else:\n",
    "        return f\"No se encontraron registros para el director {nombre_director}.\"\n"
   ]
  },
  {
   "cell_type": "code",
   "execution_count": 26,
   "metadata": {},
   "outputs": [
    {
     "data": {
      "text/plain": [
       "{'nombre_director': 'John Lasseter',\n",
       " 'retorno_total': 145.95,\n",
       " 'peliculas_info': [{'nombre_pelicula': 'Toy Story',\n",
       "   'fecha_lanzamiento': '1995-10-30',\n",
       "   'retorno_individual': 12.45,\n",
       "   'costo': 30000000,\n",
       "   'ganancia': 373554033.0},\n",
       "  {'nombre_pelicula': 'Beauty and the Beast',\n",
       "   'fecha_lanzamiento': '1991-11-13',\n",
       "   'retorno_individual': 15.09,\n",
       "   'costo': 25000000,\n",
       "   'ganancia': 377350553.0},\n",
       "  {'nombre_pelicula': \"A Bug's Life\",\n",
       "   'fecha_lanzamiento': '1998-11-25',\n",
       "   'retorno_individual': 3.03,\n",
       "   'costo': 120000000,\n",
       "   'ganancia': 363258859.0},\n",
       "  {'nombre_pelicula': 'Toy Story 2',\n",
       "   'fecha_lanzamiento': '1999-10-30',\n",
       "   'retorno_individual': 5.53,\n",
       "   'costo': 90000000,\n",
       "   'ganancia': 497366869.0},\n",
       "  {'nombre_pelicula': 'Monsters, Inc.',\n",
       "   'fecha_lanzamiento': '2001-11-01',\n",
       "   'retorno_individual': 4.89,\n",
       "   'costo': 115000000,\n",
       "   'ganancia': 562816256.0},\n",
       "  {'nombre_pelicula': 'Finding Nemo',\n",
       "   'fecha_lanzamiento': '2003-05-30',\n",
       "   'retorno_individual': 10.0,\n",
       "   'costo': 94000000,\n",
       "   'ganancia': 940335536.0},\n",
       "  {'nombre_pelicula': 'The Incredibles',\n",
       "   'fecha_lanzamiento': '2004-11-05',\n",
       "   'retorno_individual': 6.86,\n",
       "   'costo': 92000000,\n",
       "   'ganancia': 631442092.0},\n",
       "  {'nombre_pelicula': \"Howl's Moving Castle\",\n",
       "   'fecha_lanzamiento': '2004-11-19',\n",
       "   'retorno_individual': 9.78,\n",
       "   'costo': 24000000,\n",
       "   'ganancia': 234710455.0},\n",
       "  {'nombre_pelicula': 'Luxo Jr.',\n",
       "   'fecha_lanzamiento': '1986-08-17',\n",
       "   'retorno_individual': 0.0,\n",
       "   'costo': 0,\n",
       "   'ganancia': 0.0},\n",
       "  {'nombre_pelicula': 'Cars',\n",
       "   'fecha_lanzamiento': '2006-06-08',\n",
       "   'retorno_individual': 3.85,\n",
       "   'costo': 120000000,\n",
       "   'ganancia': 461983149.0},\n",
       "  {'nombre_pelicula': 'Ratatouille',\n",
       "   'fecha_lanzamiento': '2007-06-22',\n",
       "   'retorno_individual': 4.16,\n",
       "   'costo': 150000000,\n",
       "   'ganancia': 623722818.0},\n",
       "  {'nombre_pelicula': 'WALL·E',\n",
       "   'fecha_lanzamiento': '2008-06-22',\n",
       "   'retorno_individual': 2.9,\n",
       "   'costo': 180000000,\n",
       "   'ganancia': 521311860.0},\n",
       "  {'nombre_pelicula': 'Bolt',\n",
       "   'fecha_lanzamiento': '2008-11-21',\n",
       "   'retorno_individual': 2.07,\n",
       "   'costo': 150000000,\n",
       "   'ganancia': 309979994.0},\n",
       "  {'nombre_pelicula': 'Up',\n",
       "   'fecha_lanzamiento': '2009-05-13',\n",
       "   'retorno_individual': 4.2,\n",
       "   'costo': 175000000,\n",
       "   'ganancia': 735099082.0},\n",
       "  {'nombre_pelicula': 'Partly Cloudy',\n",
       "   'fecha_lanzamiento': '2009-05-28',\n",
       "   'retorno_individual': 0.0,\n",
       "   'costo': 0,\n",
       "   'ganancia': 0.0},\n",
       "  {'nombre_pelicula': 'The Princess and the Frog',\n",
       "   'fecha_lanzamiento': '2009-12-08',\n",
       "   'retorno_individual': 2.54,\n",
       "   'costo': 105000000,\n",
       "   'ganancia': 267045765.0},\n",
       "  {'nombre_pelicula': 'Toy Story 3',\n",
       "   'fecha_lanzamiento': '2010-06-16',\n",
       "   'retorno_individual': 5.33,\n",
       "   'costo': 200000000,\n",
       "   'ganancia': 1066969703.0},\n",
       "  {'nombre_pelicula': 'Tangled',\n",
       "   'fecha_lanzamiento': '2010-11-24',\n",
       "   'retorno_individual': 2.28,\n",
       "   'costo': 260000000,\n",
       "   'ganancia': 591794936.0},\n",
       "  {'nombre_pelicula': 'Cars 2',\n",
       "   'fecha_lanzamiento': '2011-06-11',\n",
       "   'retorno_individual': 2.8,\n",
       "   'costo': 200000000,\n",
       "   'ganancia': 559852396.0},\n",
       "  {'nombre_pelicula': 'John Carter',\n",
       "   'fecha_lanzamiento': '2012-03-07',\n",
       "   'retorno_individual': 1.09,\n",
       "   'costo': 260000000,\n",
       "   'ganancia': 284139100.0},\n",
       "  {'nombre_pelicula': 'The Ballad of Nessie',\n",
       "   'fecha_lanzamiento': '2011-04-13',\n",
       "   'retorno_individual': 0.0,\n",
       "   'costo': 0,\n",
       "   'ganancia': 0.0},\n",
       "  {'nombre_pelicula': 'Presto',\n",
       "   'fecha_lanzamiento': '2008-06-18',\n",
       "   'retorno_individual': 0.0,\n",
       "   'costo': 0,\n",
       "   'ganancia': 0.0},\n",
       "  {'nombre_pelicula': 'Jack-Jack Attack',\n",
       "   'fecha_lanzamiento': '2004-12-31',\n",
       "   'retorno_individual': 0.0,\n",
       "   'costo': 0,\n",
       "   'ganancia': 0.0},\n",
       "  {'nombre_pelicula': 'One Man Band',\n",
       "   'fecha_lanzamiento': '2005-06-21',\n",
       "   'retorno_individual': 0.0,\n",
       "   'costo': 0,\n",
       "   'ganancia': 0.0},\n",
       "  {'nombre_pelicula': 'Tin Toy',\n",
       "   'fecha_lanzamiento': '1988-08-01',\n",
       "   'retorno_individual': 0.0,\n",
       "   'costo': 0,\n",
       "   'ganancia': 0.0},\n",
       "  {'nombre_pelicula': \"Red's Dream\",\n",
       "   'fecha_lanzamiento': '1987-08-17',\n",
       "   'retorno_individual': 0.0,\n",
       "   'costo': 0,\n",
       "   'ganancia': 0.0},\n",
       "  {'nombre_pelicula': \"Geri's Game\",\n",
       "   'fecha_lanzamiento': '1997-11-24',\n",
       "   'retorno_individual': 0.0,\n",
       "   'costo': 0,\n",
       "   'ganancia': 0.0},\n",
       "  {'nombre_pelicula': 'Knick Knack',\n",
       "   'fecha_lanzamiento': '1989-01-01',\n",
       "   'retorno_individual': 0.0,\n",
       "   'costo': 0,\n",
       "   'ganancia': 0.0},\n",
       "  {'nombre_pelicula': 'Wreck-It Ralph',\n",
       "   'fecha_lanzamiento': '2012-11-01',\n",
       "   'retorno_individual': 2.86,\n",
       "   'costo': 165000000,\n",
       "   'ganancia': 471222889.0},\n",
       "  {'nombre_pelicula': 'Paperman',\n",
       "   'fecha_lanzamiento': '2012-11-02',\n",
       "   'retorno_individual': 0.0,\n",
       "   'costo': 0,\n",
       "   'ganancia': 0.0},\n",
       "  {'nombre_pelicula': 'Monsters University',\n",
       "   'fecha_lanzamiento': '2013-06-20',\n",
       "   'retorno_individual': 3.72,\n",
       "   'costo': 200000000,\n",
       "   'ganancia': 743559607.0},\n",
       "  {'nombre_pelicula': 'Toy Story of Terror!',\n",
       "   'fecha_lanzamiento': '2013-10-15',\n",
       "   'retorno_individual': 0.0,\n",
       "   'costo': 0,\n",
       "   'ganancia': 0.0},\n",
       "  {'nombre_pelicula': 'Frozen',\n",
       "   'fecha_lanzamiento': '2013-11-27',\n",
       "   'retorno_individual': 8.49,\n",
       "   'costo': 150000000,\n",
       "   'ganancia': 1274219009.0},\n",
       "  {'nombre_pelicula': 'La luna',\n",
       "   'fecha_lanzamiento': '2011-01-01',\n",
       "   'retorno_individual': 0.0,\n",
       "   'costo': 0,\n",
       "   'ganancia': 0.0},\n",
       "  {'nombre_pelicula': 'Mater and the Ghostlight',\n",
       "   'fecha_lanzamiento': '2006-07-27',\n",
       "   'retorno_individual': 0.0,\n",
       "   'costo': 0,\n",
       "   'ganancia': 0.0},\n",
       "  {'nombre_pelicula': 'Tangled Ever After',\n",
       "   'fecha_lanzamiento': '2012-01-13',\n",
       "   'retorno_individual': 0.0,\n",
       "   'costo': 0,\n",
       "   'ganancia': 0.0},\n",
       "  {'nombre_pelicula': 'Planes: Fire & Rescue',\n",
       "   'fecha_lanzamiento': '2014-07-17',\n",
       "   'retorno_individual': 3.02,\n",
       "   'costo': 50000000,\n",
       "   'ganancia': 151165787.0},\n",
       "  {'nombre_pelicula': 'Big Hero 6',\n",
       "   'fecha_lanzamiento': '2014-10-24',\n",
       "   'retorno_individual': 3.95,\n",
       "   'costo': 165000000,\n",
       "   'ganancia': 652105443.0},\n",
       "  {'nombre_pelicula': 'Small Fry',\n",
       "   'fecha_lanzamiento': '2011-11-23',\n",
       "   'retorno_individual': 0.0,\n",
       "   'costo': 0,\n",
       "   'ganancia': 0.0},\n",
       "  {'nombre_pelicula': 'Secret of the Wings',\n",
       "   'fecha_lanzamiento': '2012-08-17',\n",
       "   'retorno_individual': 0.0,\n",
       "   'costo': 0,\n",
       "   'ganancia': 0.0},\n",
       "  {'nombre_pelicula': 'Tinker Bell and the Lost Treasure',\n",
       "   'fecha_lanzamiento': '2009-09-03',\n",
       "   'retorno_individual': 0.0,\n",
       "   'costo': 0,\n",
       "   'ganancia': 0.0},\n",
       "  {'nombre_pelicula': 'Partysaurus Rex',\n",
       "   'fecha_lanzamiento': '2012-09-14',\n",
       "   'retorno_individual': 0.0,\n",
       "   'costo': 0,\n",
       "   'ganancia': 0.0},\n",
       "  {'nombre_pelicula': \"The Legend of Mor'du\",\n",
       "   'fecha_lanzamiento': '2012-01-01',\n",
       "   'retorno_individual': 0.0,\n",
       "   'costo': 0,\n",
       "   'ganancia': 0.0},\n",
       "  {'nombre_pelicula': 'Get a Horse!',\n",
       "   'fecha_lanzamiento': '2013-11-27',\n",
       "   'retorno_individual': 0.0,\n",
       "   'costo': 0,\n",
       "   'ganancia': 0.0},\n",
       "  {'nombre_pelicula': 'Frozen Fever',\n",
       "   'fecha_lanzamiento': '2015-03-09',\n",
       "   'retorno_individual': 0.0,\n",
       "   'costo': 0,\n",
       "   'ganancia': 0.0},\n",
       "  {'nombre_pelicula': 'Tinker Bell and the Legend of the NeverBeast',\n",
       "   'fecha_lanzamiento': '2014-12-12',\n",
       "   'retorno_individual': 0.0,\n",
       "   'costo': 0,\n",
       "   'ganancia': 0.0},\n",
       "  {'nombre_pelicula': 'Tinker Bell and the Pirate Fairy',\n",
       "   'fecha_lanzamiento': '2014-02-13',\n",
       "   'retorno_individual': 0.0,\n",
       "   'costo': 0,\n",
       "   'ganancia': 20300000.0},\n",
       "  {'nombre_pelicula': 'Tinker Bell and the Great Fairy Rescue',\n",
       "   'fecha_lanzamiento': '2010-08-13',\n",
       "   'retorno_individual': 0.0,\n",
       "   'costo': 0,\n",
       "   'ganancia': 0.0},\n",
       "  {'nombre_pelicula': 'Tinker Bell',\n",
       "   'fecha_lanzamiento': '2008-10-27',\n",
       "   'retorno_individual': 0.0,\n",
       "   'costo': 48000000,\n",
       "   'ganancia': 0.0},\n",
       "  {'nombre_pelicula': 'Inside Out',\n",
       "   'fecha_lanzamiento': '2015-06-09',\n",
       "   'retorno_individual': 4.9,\n",
       "   'costo': 175000000,\n",
       "   'ganancia': 857611174.0},\n",
       "  {'nombre_pelicula': 'The Good Dinosaur',\n",
       "   'fecha_lanzamiento': '2015-11-14',\n",
       "   'retorno_individual': 1.9,\n",
       "   'costo': 175000000,\n",
       "   'ganancia': 331926147.0},\n",
       "  {'nombre_pelicula': 'Prep & Landing',\n",
       "   'fecha_lanzamiento': '2009-12-24',\n",
       "   'retorno_individual': 0.0,\n",
       "   'costo': 0,\n",
       "   'ganancia': 0.0},\n",
       "  {'nombre_pelicula': 'Feast',\n",
       "   'fecha_lanzamiento': '2014-11-07',\n",
       "   'retorno_individual': 0.0,\n",
       "   'costo': 0,\n",
       "   'ganancia': 0.0},\n",
       "  {'nombre_pelicula': 'Lava',\n",
       "   'fecha_lanzamiento': '2015-06-21',\n",
       "   'retorno_individual': 0.0,\n",
       "   'costo': 0,\n",
       "   'ganancia': 0.0},\n",
       "  {'nombre_pelicula': \"Sanjay's Super Team\",\n",
       "   'fecha_lanzamiento': '2015-11-25',\n",
       "   'retorno_individual': 0.0,\n",
       "   'costo': 0,\n",
       "   'ganancia': 0.0},\n",
       "  {'nombre_pelicula': 'Zootopia',\n",
       "   'fecha_lanzamiento': '2016-02-11',\n",
       "   'retorno_individual': 6.83,\n",
       "   'costo': 150000000,\n",
       "   'ganancia': 1023784195.0},\n",
       "  {'nombre_pelicula': 'Finding Dory',\n",
       "   'fecha_lanzamiento': '2016-06-16',\n",
       "   'retorno_individual': 5.14,\n",
       "   'costo': 200000000,\n",
       "   'ganancia': 1028570889.0},\n",
       "  {'nombre_pelicula': 'Piper',\n",
       "   'fecha_lanzamiento': '2016-06-16',\n",
       "   'retorno_individual': 0.0,\n",
       "   'costo': 0,\n",
       "   'ganancia': 0.0},\n",
       "  {'nombre_pelicula': 'How to Hook Up Your Home Theater',\n",
       "   'fecha_lanzamiento': '2007-12-21',\n",
       "   'retorno_individual': 0.0,\n",
       "   'costo': 0,\n",
       "   'ganancia': 0.0},\n",
       "  {'nombre_pelicula': 'Tick Tock Tale',\n",
       "   'fecha_lanzamiento': '2010-06-10',\n",
       "   'retorno_individual': 0.0,\n",
       "   'costo': 0,\n",
       "   'ganancia': 0.0},\n",
       "  {'nombre_pelicula': 'Air Mater',\n",
       "   'fecha_lanzamiento': '2011-08-04',\n",
       "   'retorno_individual': 0.0,\n",
       "   'costo': 0,\n",
       "   'ganancia': 0.0},\n",
       "  {'nombre_pelicula': \"Riley's First Date?\",\n",
       "   'fecha_lanzamiento': '2015-11-03',\n",
       "   'retorno_individual': 0.0,\n",
       "   'costo': 0,\n",
       "   'ganancia': 0.0},\n",
       "  {'nombre_pelicula': 'Moana',\n",
       "   'fecha_lanzamiento': '2016-11-23',\n",
       "   'retorno_individual': 4.29,\n",
       "   'costo': 150000000,\n",
       "   'ganancia': 643034466.0},\n",
       "  {'nombre_pelicula': 'Inner Workings',\n",
       "   'fecha_lanzamiento': '2016-11-23',\n",
       "   'retorno_individual': 0.0,\n",
       "   'costo': 0,\n",
       "   'ganancia': 0.0},\n",
       "  {'nombre_pelicula': 'Cars 3',\n",
       "   'fecha_lanzamiento': '2017-06-15',\n",
       "   'retorno_individual': 2.0,\n",
       "   'costo': 175000000,\n",
       "   'ganancia': 350170057.0}]}"
      ]
     },
     "execution_count": 26,
     "metadata": {},
     "output_type": "execute_result"
    }
   ],
   "source": [
    "get_director('John Lasseter')"
   ]
  }
 ],
 "metadata": {
  "kernelspec": {
   "display_name": "Python 3",
   "language": "python",
   "name": "python3"
  },
  "language_info": {
   "codemirror_mode": {
    "name": "ipython",
    "version": 3
   },
   "file_extension": ".py",
   "mimetype": "text/x-python",
   "name": "python",
   "nbconvert_exporter": "python",
   "pygments_lexer": "ipython3",
   "version": "3.10.11"
  },
  "orig_nbformat": 4
 },
 "nbformat": 4,
 "nbformat_minor": 2
}
